{
  "nbformat": 4,
  "nbformat_minor": 0,
  "metadata": {
    "colab": {
      "name": "hw2_task1_sh3831.ipynb",
      "provenance": [],
      "collapsed_sections": []
    },
    "kernelspec": {
      "name": "python3",
      "display_name": "Python 3"
    },
    "accelerator": "GPU"
  },
  "cells": [
    {
      "cell_type": "markdown",
      "metadata": {
        "id": "yMzcHNChePTr",
        "colab_type": "text"
      },
      "source": [
        "# Hw2 of Applied Machine Learning\n",
        "### Shuai Hao (sh3831)"
      ]
    },
    {
      "cell_type": "markdown",
      "metadata": {
        "id": "2zFNYHpzeCi3",
        "colab_type": "text"
      },
      "source": [
        "## Classification on the ‘credit-g’ dataset\n",
        "[This German credit dataset](https://www.openml.org/d/31) classifies people described by a set of attributes as good or bad credit risks. The data were donated by Dr. Hans Hofmann in 1994."
      ]
    },
    {
      "cell_type": "code",
      "metadata": {
        "id": "N1N-GRgbPjFa",
        "colab_type": "code",
        "colab": {}
      },
      "source": [
        "from sklearn.datasets import fetch_openml\n",
        "from sklearn.model_selection import train_test_split, cross_val_score, GridSearchCV, KFold\n",
        "from sklearn.preprocessing import LabelEncoder, OneHotEncoder, StandardScaler\n",
        "from sklearn.linear_model import LogisticRegression\n",
        "from sklearn.pipeline import make_pipeline, Pipeline\n",
        "from sklearn.compose import make_column_transformer\n",
        "from sklearn.svm import LinearSVC\n",
        "from sklearn.neighbors import KNeighborsClassifier\n",
        "import pandas as pd\n",
        "import matplotlib.pyplot as plt\n",
        "import numpy as np                                                                                                  "
      ],
      "execution_count": 0,
      "outputs": []
    },
    {
      "cell_type": "code",
      "metadata": {
        "id": "3K0vMwHSd42X",
        "colab_type": "code",
        "colab": {}
      },
      "source": [
        "X, y = fetch_openml('credit-g', return_X_y=True, as_frame=True)"
      ],
      "execution_count": 0,
      "outputs": []
    },
    {
      "cell_type": "code",
      "metadata": {
        "id": "5cqsVDCyQ4pV",
        "colab_type": "code",
        "outputId": "92dbf086-1120-4eb4-8c86-7bc289b9b547",
        "colab": {
          "base_uri": "https://localhost:8080/",
          "height": 541
        }
      },
      "source": [
        "X"
      ],
      "execution_count": 0,
      "outputs": [
        {
          "output_type": "execute_result",
          "data": {
            "text/html": [
              "<div>\n",
              "<style scoped>\n",
              "    .dataframe tbody tr th:only-of-type {\n",
              "        vertical-align: middle;\n",
              "    }\n",
              "\n",
              "    .dataframe tbody tr th {\n",
              "        vertical-align: top;\n",
              "    }\n",
              "\n",
              "    .dataframe thead th {\n",
              "        text-align: right;\n",
              "    }\n",
              "</style>\n",
              "<table border=\"1\" class=\"dataframe\">\n",
              "  <thead>\n",
              "    <tr style=\"text-align: right;\">\n",
              "      <th></th>\n",
              "      <th>checking_status</th>\n",
              "      <th>duration</th>\n",
              "      <th>credit_history</th>\n",
              "      <th>purpose</th>\n",
              "      <th>credit_amount</th>\n",
              "      <th>savings_status</th>\n",
              "      <th>employment</th>\n",
              "      <th>installment_commitment</th>\n",
              "      <th>personal_status</th>\n",
              "      <th>other_parties</th>\n",
              "      <th>residence_since</th>\n",
              "      <th>property_magnitude</th>\n",
              "      <th>age</th>\n",
              "      <th>other_payment_plans</th>\n",
              "      <th>housing</th>\n",
              "      <th>existing_credits</th>\n",
              "      <th>job</th>\n",
              "      <th>num_dependents</th>\n",
              "      <th>own_telephone</th>\n",
              "      <th>foreign_worker</th>\n",
              "    </tr>\n",
              "  </thead>\n",
              "  <tbody>\n",
              "    <tr>\n",
              "      <th>0</th>\n",
              "      <td>&lt;0</td>\n",
              "      <td>6.0</td>\n",
              "      <td>critical/other existing credit</td>\n",
              "      <td>radio/tv</td>\n",
              "      <td>1169.0</td>\n",
              "      <td>no known savings</td>\n",
              "      <td>&gt;=7</td>\n",
              "      <td>4.0</td>\n",
              "      <td>male single</td>\n",
              "      <td>none</td>\n",
              "      <td>4.0</td>\n",
              "      <td>real estate</td>\n",
              "      <td>67.0</td>\n",
              "      <td>none</td>\n",
              "      <td>own</td>\n",
              "      <td>2.0</td>\n",
              "      <td>skilled</td>\n",
              "      <td>1.0</td>\n",
              "      <td>yes</td>\n",
              "      <td>yes</td>\n",
              "    </tr>\n",
              "    <tr>\n",
              "      <th>1</th>\n",
              "      <td>0&lt;=X&lt;200</td>\n",
              "      <td>48.0</td>\n",
              "      <td>existing paid</td>\n",
              "      <td>radio/tv</td>\n",
              "      <td>5951.0</td>\n",
              "      <td>&lt;100</td>\n",
              "      <td>1&lt;=X&lt;4</td>\n",
              "      <td>2.0</td>\n",
              "      <td>female div/dep/mar</td>\n",
              "      <td>none</td>\n",
              "      <td>2.0</td>\n",
              "      <td>real estate</td>\n",
              "      <td>22.0</td>\n",
              "      <td>none</td>\n",
              "      <td>own</td>\n",
              "      <td>1.0</td>\n",
              "      <td>skilled</td>\n",
              "      <td>1.0</td>\n",
              "      <td>none</td>\n",
              "      <td>yes</td>\n",
              "    </tr>\n",
              "    <tr>\n",
              "      <th>2</th>\n",
              "      <td>no checking</td>\n",
              "      <td>12.0</td>\n",
              "      <td>critical/other existing credit</td>\n",
              "      <td>education</td>\n",
              "      <td>2096.0</td>\n",
              "      <td>&lt;100</td>\n",
              "      <td>4&lt;=X&lt;7</td>\n",
              "      <td>2.0</td>\n",
              "      <td>male single</td>\n",
              "      <td>none</td>\n",
              "      <td>3.0</td>\n",
              "      <td>real estate</td>\n",
              "      <td>49.0</td>\n",
              "      <td>none</td>\n",
              "      <td>own</td>\n",
              "      <td>1.0</td>\n",
              "      <td>unskilled resident</td>\n",
              "      <td>2.0</td>\n",
              "      <td>none</td>\n",
              "      <td>yes</td>\n",
              "    </tr>\n",
              "    <tr>\n",
              "      <th>3</th>\n",
              "      <td>&lt;0</td>\n",
              "      <td>42.0</td>\n",
              "      <td>existing paid</td>\n",
              "      <td>furniture/equipment</td>\n",
              "      <td>7882.0</td>\n",
              "      <td>&lt;100</td>\n",
              "      <td>4&lt;=X&lt;7</td>\n",
              "      <td>2.0</td>\n",
              "      <td>male single</td>\n",
              "      <td>guarantor</td>\n",
              "      <td>4.0</td>\n",
              "      <td>life insurance</td>\n",
              "      <td>45.0</td>\n",
              "      <td>none</td>\n",
              "      <td>for free</td>\n",
              "      <td>1.0</td>\n",
              "      <td>skilled</td>\n",
              "      <td>2.0</td>\n",
              "      <td>none</td>\n",
              "      <td>yes</td>\n",
              "    </tr>\n",
              "    <tr>\n",
              "      <th>4</th>\n",
              "      <td>&lt;0</td>\n",
              "      <td>24.0</td>\n",
              "      <td>delayed previously</td>\n",
              "      <td>new car</td>\n",
              "      <td>4870.0</td>\n",
              "      <td>&lt;100</td>\n",
              "      <td>1&lt;=X&lt;4</td>\n",
              "      <td>3.0</td>\n",
              "      <td>male single</td>\n",
              "      <td>none</td>\n",
              "      <td>4.0</td>\n",
              "      <td>no known property</td>\n",
              "      <td>53.0</td>\n",
              "      <td>none</td>\n",
              "      <td>for free</td>\n",
              "      <td>2.0</td>\n",
              "      <td>skilled</td>\n",
              "      <td>2.0</td>\n",
              "      <td>none</td>\n",
              "      <td>yes</td>\n",
              "    </tr>\n",
              "    <tr>\n",
              "      <th>...</th>\n",
              "      <td>...</td>\n",
              "      <td>...</td>\n",
              "      <td>...</td>\n",
              "      <td>...</td>\n",
              "      <td>...</td>\n",
              "      <td>...</td>\n",
              "      <td>...</td>\n",
              "      <td>...</td>\n",
              "      <td>...</td>\n",
              "      <td>...</td>\n",
              "      <td>...</td>\n",
              "      <td>...</td>\n",
              "      <td>...</td>\n",
              "      <td>...</td>\n",
              "      <td>...</td>\n",
              "      <td>...</td>\n",
              "      <td>...</td>\n",
              "      <td>...</td>\n",
              "      <td>...</td>\n",
              "      <td>...</td>\n",
              "    </tr>\n",
              "    <tr>\n",
              "      <th>995</th>\n",
              "      <td>no checking</td>\n",
              "      <td>12.0</td>\n",
              "      <td>existing paid</td>\n",
              "      <td>furniture/equipment</td>\n",
              "      <td>1736.0</td>\n",
              "      <td>&lt;100</td>\n",
              "      <td>4&lt;=X&lt;7</td>\n",
              "      <td>3.0</td>\n",
              "      <td>female div/dep/mar</td>\n",
              "      <td>none</td>\n",
              "      <td>4.0</td>\n",
              "      <td>real estate</td>\n",
              "      <td>31.0</td>\n",
              "      <td>none</td>\n",
              "      <td>own</td>\n",
              "      <td>1.0</td>\n",
              "      <td>unskilled resident</td>\n",
              "      <td>1.0</td>\n",
              "      <td>none</td>\n",
              "      <td>yes</td>\n",
              "    </tr>\n",
              "    <tr>\n",
              "      <th>996</th>\n",
              "      <td>&lt;0</td>\n",
              "      <td>30.0</td>\n",
              "      <td>existing paid</td>\n",
              "      <td>used car</td>\n",
              "      <td>3857.0</td>\n",
              "      <td>&lt;100</td>\n",
              "      <td>1&lt;=X&lt;4</td>\n",
              "      <td>4.0</td>\n",
              "      <td>male div/sep</td>\n",
              "      <td>none</td>\n",
              "      <td>4.0</td>\n",
              "      <td>life insurance</td>\n",
              "      <td>40.0</td>\n",
              "      <td>none</td>\n",
              "      <td>own</td>\n",
              "      <td>1.0</td>\n",
              "      <td>high qualif/self emp/mgmt</td>\n",
              "      <td>1.0</td>\n",
              "      <td>yes</td>\n",
              "      <td>yes</td>\n",
              "    </tr>\n",
              "    <tr>\n",
              "      <th>997</th>\n",
              "      <td>no checking</td>\n",
              "      <td>12.0</td>\n",
              "      <td>existing paid</td>\n",
              "      <td>radio/tv</td>\n",
              "      <td>804.0</td>\n",
              "      <td>&lt;100</td>\n",
              "      <td>&gt;=7</td>\n",
              "      <td>4.0</td>\n",
              "      <td>male single</td>\n",
              "      <td>none</td>\n",
              "      <td>4.0</td>\n",
              "      <td>car</td>\n",
              "      <td>38.0</td>\n",
              "      <td>none</td>\n",
              "      <td>own</td>\n",
              "      <td>1.0</td>\n",
              "      <td>skilled</td>\n",
              "      <td>1.0</td>\n",
              "      <td>none</td>\n",
              "      <td>yes</td>\n",
              "    </tr>\n",
              "    <tr>\n",
              "      <th>998</th>\n",
              "      <td>&lt;0</td>\n",
              "      <td>45.0</td>\n",
              "      <td>existing paid</td>\n",
              "      <td>radio/tv</td>\n",
              "      <td>1845.0</td>\n",
              "      <td>&lt;100</td>\n",
              "      <td>1&lt;=X&lt;4</td>\n",
              "      <td>4.0</td>\n",
              "      <td>male single</td>\n",
              "      <td>none</td>\n",
              "      <td>4.0</td>\n",
              "      <td>no known property</td>\n",
              "      <td>23.0</td>\n",
              "      <td>none</td>\n",
              "      <td>for free</td>\n",
              "      <td>1.0</td>\n",
              "      <td>skilled</td>\n",
              "      <td>1.0</td>\n",
              "      <td>yes</td>\n",
              "      <td>yes</td>\n",
              "    </tr>\n",
              "    <tr>\n",
              "      <th>999</th>\n",
              "      <td>0&lt;=X&lt;200</td>\n",
              "      <td>45.0</td>\n",
              "      <td>critical/other existing credit</td>\n",
              "      <td>used car</td>\n",
              "      <td>4576.0</td>\n",
              "      <td>100&lt;=X&lt;500</td>\n",
              "      <td>unemployed</td>\n",
              "      <td>3.0</td>\n",
              "      <td>male single</td>\n",
              "      <td>none</td>\n",
              "      <td>4.0</td>\n",
              "      <td>car</td>\n",
              "      <td>27.0</td>\n",
              "      <td>none</td>\n",
              "      <td>own</td>\n",
              "      <td>1.0</td>\n",
              "      <td>skilled</td>\n",
              "      <td>1.0</td>\n",
              "      <td>none</td>\n",
              "      <td>yes</td>\n",
              "    </tr>\n",
              "  </tbody>\n",
              "</table>\n",
              "<p>1000 rows × 20 columns</p>\n",
              "</div>"
            ],
            "text/plain": [
              "    checking_status  duration  ... own_telephone foreign_worker\n",
              "0                <0       6.0  ...           yes            yes\n",
              "1          0<=X<200      48.0  ...          none            yes\n",
              "2       no checking      12.0  ...          none            yes\n",
              "3                <0      42.0  ...          none            yes\n",
              "4                <0      24.0  ...          none            yes\n",
              "..              ...       ...  ...           ...            ...\n",
              "995     no checking      12.0  ...          none            yes\n",
              "996              <0      30.0  ...           yes            yes\n",
              "997     no checking      12.0  ...          none            yes\n",
              "998              <0      45.0  ...           yes            yes\n",
              "999        0<=X<200      45.0  ...          none            yes\n",
              "\n",
              "[1000 rows x 20 columns]"
            ]
          },
          "metadata": {
            "tags": []
          },
          "execution_count": 3
        }
      ]
    },
    {
      "cell_type": "code",
      "metadata": {
        "id": "SVBXpGXSRCQd",
        "colab_type": "code",
        "outputId": "750e716e-26de-4aaf-ac77-78b94c5d6bf8",
        "colab": {
          "base_uri": "https://localhost:8080/",
          "height": 238
        }
      },
      "source": [
        "y"
      ],
      "execution_count": 0,
      "outputs": [
        {
          "output_type": "execute_result",
          "data": {
            "text/plain": [
              "0      good\n",
              "1       bad\n",
              "2      good\n",
              "3      good\n",
              "4       bad\n",
              "       ... \n",
              "995    good\n",
              "996    good\n",
              "997    good\n",
              "998     bad\n",
              "999    good\n",
              "Name: class, Length: 1000, dtype: category\n",
              "Categories (2, object): [good, bad]"
            ]
          },
          "metadata": {
            "tags": []
          },
          "execution_count": 4
        }
      ]
    },
    {
      "cell_type": "markdown",
      "metadata": {
        "id": "ajGps8k2QFFd",
        "colab_type": "text"
      },
      "source": [
        "## 1.1 Determine which features are continuous and which are categorical.\n",
        "**Continuous features:**\n",
        "\n",
        "duration, credit amount, installment_commitment, residence_since, age, existing_credits, num_dependents\n",
        "\n",
        "**Categorical features:**\n",
        "\n",
        "checking status, credit history, purpose, saving status, employment, personal_status, other_parties, property_magnitude, other_payment_plans, housing, own_telephone, foreign_worker"
      ]
    },
    {
      "cell_type": "markdown",
      "metadata": {
        "id": "8TFdpMsOWQ-S",
        "colab_type": "text"
      },
      "source": [
        "## 1.2 Visualize the univariate distribution of each continuous feature, and the distribution of the target."
      ]
    },
    {
      "cell_type": "code",
      "metadata": {
        "id": "VeUfYplP9GjA",
        "colab_type": "code",
        "colab": {}
      },
      "source": [
        "y_label = [\"good\", \"bad\"]\n",
        "y_freq = [len(y[y=='good']), len(y[y=='bad'])]"
      ],
      "execution_count": 0,
      "outputs": []
    },
    {
      "cell_type": "markdown",
      "metadata": {
        "id": "i4-22SMDSOAO",
        "colab_type": "text"
      },
      "source": [
        "**Histogram of each continuous feature and the distribution of the target**"
      ]
    },
    {
      "cell_type": "code",
      "metadata": {
        "id": "Gj3nrBNL9m9f",
        "colab_type": "code",
        "outputId": "d85b2b50-0cd1-4f33-a82c-3666de3e6472",
        "colab": {
          "base_uri": "https://localhost:8080/",
          "height": 1000
        }
      },
      "source": [
        "fig, ax = plt.subplots(3, 3, figsize=(20,20))\n",
        "ax[0][0].hist(x = X[\"duration\"], bins=20)\n",
        "ax[0][0].set_xlabel(\"Duration\")\n",
        "ax[0][0].set_ylabel(\"Frequency\")\n",
        "ax[0][0].title.set_text(\"Histogram of feature 'duration'\")\n",
        "ax[0][1].hist(x = X[\"credit_amount\"], bins=20)\n",
        "ax[0][1].set_xlabel(\"Credit amount\")\n",
        "ax[0][1].set_ylabel(\"Frequency\")\n",
        "ax[0][1].title.set_text(\"Histogram of feature 'credit amount'\")\n",
        "ax[0][2].hist(x = X[\"installment_commitment\"], bins=10)\n",
        "ax[0][2].set_xlabel(\"Installment commitment\")\n",
        "ax[0][2].set_ylabel(\"Frequency\")\n",
        "ax[0][2].title.set_text(\"Histogram of feature 'installment commitment'\")\n",
        "ax[1][0].hist(x = X[\"residence_since\"], bins=10)\n",
        "ax[1][0].set_xlabel(\"Residence since\")\n",
        "ax[1][0].set_ylabel(\"Frequency\")\n",
        "ax[1][0].title.set_text(\"Histogram of feature 'residence since'\")\n",
        "ax[1][1].hist(x = X[\"age\"], bins=20)\n",
        "ax[1][1].set_xlabel(\"Age\")\n",
        "ax[1][1].set_ylabel(\"Frequency\")\n",
        "ax[1][1].title.set_text(\"Histogram of feature 'age'\")\n",
        "ax[1][2].hist(x = X[\"existing_credits\"], bins=10)\n",
        "ax[1][2].set_xlabel(\"Existing credits\")\n",
        "ax[1][2].set_ylabel(\"Frequency\")\n",
        "ax[1][2].title.set_text(\"Histogram of feature 'existing credits'\")\n",
        "ax[2][0].hist(x = X[\"num_dependents\"], bins=5)\n",
        "ax[2][0].set_xlabel(\"Number of dependents\")\n",
        "ax[2][0].set_ylabel(\"Frequency\")\n",
        "ax[2][0].title.set_text(\"Histogram of feature 'num dependents'\")\n",
        "ax[2][1].bar(np.arange(len(y_label)), y_freq, 0.35)\n",
        "ax[2][1].set_xticks(np.arange(len(y_label)))\n",
        "ax[2][1].set_xticklabels(y_label)\n",
        "ax[2][1].set_xlabel(\"Label\")\n",
        "ax[2][1].set_ylabel(\"Frequency\")\n",
        "ax[2][1].title.set_text(\"Distribution of the target\")\n",
        "fig.delaxes(ax[2][2])\n",
        "plt.show()"
      ],
      "execution_count": 0,
      "outputs": [
        {
          "output_type": "display_data",
          "data": {
            "image/png": "[encoded data removed]",
            "text/plain": [
              "<Figure size 1440x1440 with 8 Axes>"
            ]
          },
          "metadata": {
            "tags": []
          }
        }
      ]
    },
    {
      "cell_type": "markdown",
      "metadata": {
        "id": "Li5JG1fRScqc",
        "colab_type": "text"
      },
      "source": [
        "**Box plot of each continuous feature**"
      ]
    },
    {
      "cell_type": "code",
      "metadata": {
        "id": "tF2hl3ekf3kD",
        "colab_type": "code",
        "outputId": "12a27089-f9ca-40f1-d88a-e4362da71439",
        "colab": {
          "base_uri": "https://localhost:8080/",
          "height": 1000
        }
      },
      "source": [
        "fig, ax = plt.subplots(3, 3, figsize=(20,20))\n",
        "ax[0][0].boxplot(x = X[\"duration\"])\n",
        "ax[0][0].set_ylabel(\"Duration\")\n",
        "ax[0][0].title.set_text(\"Box plot of feature 'duration'\")\n",
        "ax[0][1].boxplot(x = X[\"credit_amount\"])\n",
        "ax[0][1].set_ylabel(\"Credit amount\")\n",
        "ax[0][1].title.set_text(\"Box plot of feature 'credit amount'\")\n",
        "ax[0][2].boxplot(x = X[\"installment_commitment\"])\n",
        "ax[0][2].set_ylabel(\"Installment commitment\")\n",
        "ax[0][2].title.set_text(\"Box plot of feature 'installment commitment'\")\n",
        "ax[1][0].boxplot(x = X[\"residence_since\"])\n",
        "ax[1][0].set_ylabel(\"Residence since\")\n",
        "ax[1][0].title.set_text(\"Box plot of feature 'residence since'\")\n",
        "ax[1][1].boxplot(x = X[\"age\"])\n",
        "ax[1][1].set_ylabel(\"Age\")\n",
        "ax[1][1].title.set_text(\"Box plot of feature 'age'\")\n",
        "ax[1][2].boxplot(x = X[\"existing_credits\"])\n",
        "ax[1][2].set_ylabel(\"Existing credits\")\n",
        "ax[1][2].title.set_text(\"Box plot of feature 'existing credits'\")\n",
        "ax[2][0].boxplot(x = X[\"num_dependents\"])\n",
        "ax[2][0].set_ylabel(\"Number of dependents\")\n",
        "ax[2][0].title.set_text(\"Box plot of feature 'num dependents'\")\n",
        "fig.delaxes(ax[2][1])\n",
        "fig.delaxes(ax[2][2])\n",
        "plt.show()"
      ],
      "execution_count": 0,
      "outputs": [
        {
          "output_type": "display_data",
          "data": {
            "image/png": "[encoded data removed]",
            "text/plain": [
              "<Figure size 1440x1440 with 7 Axes>"
            ]
          },
          "metadata": {
            "tags": []
          }
        }
      ]
    },
    {
      "cell_type": "markdown",
      "metadata": {
        "id": "OL5ANpSzG5Ky",
        "colab_type": "text"
      },
      "source": [
        "## 1.3 Split data into training and test set. \n",
        "Do not use the test set until a final evaluation in 1.5. Preprocess the data (such as treatment of categorical variables) without using a pipeline and\n",
        "evaluate an initial LogisticRegression model with an training/validation split."
      ]
    },
    {
      "cell_type": "code",
      "metadata": {
        "id": "CV9bxtjVHJgI",
        "colab_type": "code",
        "colab": {}
      },
      "source": [
        "X_train, X_test, y_train, y_test = train_test_split(X, y)"
      ],
      "execution_count": 0,
      "outputs": []
    },
    {
      "cell_type": "code",
      "metadata": {
        "id": "u8kC_MirK1Fv",
        "colab_type": "code",
        "outputId": "4d724ba6-6246-4fd1-8845-52a8b725613e",
        "colab": {
          "base_uri": "https://localhost:8080/",
          "height": 575
        }
      },
      "source": [
        "X_train"
      ],
      "execution_count": 0,
      "outputs": [
        {
          "output_type": "execute_result",
          "data": {
            "text/html": [
              "<div>\n",
              "<style scoped>\n",
              "    .dataframe tbody tr th:only-of-type {\n",
              "        vertical-align: middle;\n",
              "    }\n",
              "\n",
              "    .dataframe tbody tr th {\n",
              "        vertical-align: top;\n",
              "    }\n",
              "\n",
              "    .dataframe thead th {\n",
              "        text-align: right;\n",
              "    }\n",
              "</style>\n",
              "<table border=\"1\" class=\"dataframe\">\n",
              "  <thead>\n",
              "    <tr style=\"text-align: right;\">\n",
              "      <th></th>\n",
              "      <th>checking_status</th>\n",
              "      <th>duration</th>\n",
              "      <th>credit_history</th>\n",
              "      <th>purpose</th>\n",
              "      <th>credit_amount</th>\n",
              "      <th>savings_status</th>\n",
              "      <th>employment</th>\n",
              "      <th>installment_commitment</th>\n",
              "      <th>personal_status</th>\n",
              "      <th>other_parties</th>\n",
              "      <th>residence_since</th>\n",
              "      <th>property_magnitude</th>\n",
              "      <th>age</th>\n",
              "      <th>other_payment_plans</th>\n",
              "      <th>housing</th>\n",
              "      <th>existing_credits</th>\n",
              "      <th>job</th>\n",
              "      <th>num_dependents</th>\n",
              "      <th>own_telephone</th>\n",
              "      <th>foreign_worker</th>\n",
              "    </tr>\n",
              "  </thead>\n",
              "  <tbody>\n",
              "    <tr>\n",
              "      <th>10</th>\n",
              "      <td>0&lt;=X&lt;200</td>\n",
              "      <td>12.0</td>\n",
              "      <td>existing paid</td>\n",
              "      <td>new car</td>\n",
              "      <td>1295.0</td>\n",
              "      <td>&lt;100</td>\n",
              "      <td>&lt;1</td>\n",
              "      <td>3.0</td>\n",
              "      <td>female div/dep/mar</td>\n",
              "      <td>none</td>\n",
              "      <td>1.0</td>\n",
              "      <td>car</td>\n",
              "      <td>25.0</td>\n",
              "      <td>none</td>\n",
              "      <td>rent</td>\n",
              "      <td>1.0</td>\n",
              "      <td>skilled</td>\n",
              "      <td>1.0</td>\n",
              "      <td>none</td>\n",
              "      <td>yes</td>\n",
              "    </tr>\n",
              "    <tr>\n",
              "      <th>691</th>\n",
              "      <td>0&lt;=X&lt;200</td>\n",
              "      <td>15.0</td>\n",
              "      <td>existing paid</td>\n",
              "      <td>repairs</td>\n",
              "      <td>2631.0</td>\n",
              "      <td>100&lt;=X&lt;500</td>\n",
              "      <td>1&lt;=X&lt;4</td>\n",
              "      <td>3.0</td>\n",
              "      <td>female div/dep/mar</td>\n",
              "      <td>none</td>\n",
              "      <td>2.0</td>\n",
              "      <td>real estate</td>\n",
              "      <td>25.0</td>\n",
              "      <td>none</td>\n",
              "      <td>own</td>\n",
              "      <td>1.0</td>\n",
              "      <td>unskilled resident</td>\n",
              "      <td>1.0</td>\n",
              "      <td>none</td>\n",
              "      <td>yes</td>\n",
              "    </tr>\n",
              "    <tr>\n",
              "      <th>666</th>\n",
              "      <td>0&lt;=X&lt;200</td>\n",
              "      <td>30.0</td>\n",
              "      <td>all paid</td>\n",
              "      <td>furniture/equipment</td>\n",
              "      <td>3496.0</td>\n",
              "      <td>&gt;=1000</td>\n",
              "      <td>1&lt;=X&lt;4</td>\n",
              "      <td>4.0</td>\n",
              "      <td>male single</td>\n",
              "      <td>none</td>\n",
              "      <td>2.0</td>\n",
              "      <td>car</td>\n",
              "      <td>34.0</td>\n",
              "      <td>stores</td>\n",
              "      <td>own</td>\n",
              "      <td>1.0</td>\n",
              "      <td>skilled</td>\n",
              "      <td>2.0</td>\n",
              "      <td>yes</td>\n",
              "      <td>yes</td>\n",
              "    </tr>\n",
              "    <tr>\n",
              "      <th>138</th>\n",
              "      <td>0&lt;=X&lt;200</td>\n",
              "      <td>15.0</td>\n",
              "      <td>critical/other existing credit</td>\n",
              "      <td>radio/tv</td>\n",
              "      <td>2728.0</td>\n",
              "      <td>no known savings</td>\n",
              "      <td>4&lt;=X&lt;7</td>\n",
              "      <td>4.0</td>\n",
              "      <td>male single</td>\n",
              "      <td>guarantor</td>\n",
              "      <td>2.0</td>\n",
              "      <td>real estate</td>\n",
              "      <td>35.0</td>\n",
              "      <td>bank</td>\n",
              "      <td>own</td>\n",
              "      <td>3.0</td>\n",
              "      <td>skilled</td>\n",
              "      <td>1.0</td>\n",
              "      <td>yes</td>\n",
              "      <td>yes</td>\n",
              "    </tr>\n",
              "    <tr>\n",
              "      <th>295</th>\n",
              "      <td>0&lt;=X&lt;200</td>\n",
              "      <td>48.0</td>\n",
              "      <td>existing paid</td>\n",
              "      <td>furniture/equipment</td>\n",
              "      <td>9960.0</td>\n",
              "      <td>&lt;100</td>\n",
              "      <td>&lt;1</td>\n",
              "      <td>1.0</td>\n",
              "      <td>female div/dep/mar</td>\n",
              "      <td>none</td>\n",
              "      <td>2.0</td>\n",
              "      <td>car</td>\n",
              "      <td>26.0</td>\n",
              "      <td>none</td>\n",
              "      <td>own</td>\n",
              "      <td>1.0</td>\n",
              "      <td>skilled</td>\n",
              "      <td>1.0</td>\n",
              "      <td>yes</td>\n",
              "      <td>yes</td>\n",
              "    </tr>\n",
              "    <tr>\n",
              "      <th>...</th>\n",
              "      <td>...</td>\n",
              "      <td>...</td>\n",
              "      <td>...</td>\n",
              "      <td>...</td>\n",
              "      <td>...</td>\n",
              "      <td>...</td>\n",
              "      <td>...</td>\n",
              "      <td>...</td>\n",
              "      <td>...</td>\n",
              "      <td>...</td>\n",
              "      <td>...</td>\n",
              "      <td>...</td>\n",
              "      <td>...</td>\n",
              "      <td>...</td>\n",
              "      <td>...</td>\n",
              "      <td>...</td>\n",
              "      <td>...</td>\n",
              "      <td>...</td>\n",
              "      <td>...</td>\n",
              "      <td>...</td>\n",
              "    </tr>\n",
              "    <tr>\n",
              "      <th>56</th>\n",
              "      <td>0&lt;=X&lt;200</td>\n",
              "      <td>12.0</td>\n",
              "      <td>existing paid</td>\n",
              "      <td>radio/tv</td>\n",
              "      <td>6468.0</td>\n",
              "      <td>no known savings</td>\n",
              "      <td>unemployed</td>\n",
              "      <td>2.0</td>\n",
              "      <td>male single</td>\n",
              "      <td>none</td>\n",
              "      <td>1.0</td>\n",
              "      <td>no known property</td>\n",
              "      <td>52.0</td>\n",
              "      <td>none</td>\n",
              "      <td>own</td>\n",
              "      <td>1.0</td>\n",
              "      <td>high qualif/self emp/mgmt</td>\n",
              "      <td>1.0</td>\n",
              "      <td>yes</td>\n",
              "      <td>yes</td>\n",
              "    </tr>\n",
              "    <tr>\n",
              "      <th>165</th>\n",
              "      <td>no checking</td>\n",
              "      <td>6.0</td>\n",
              "      <td>existing paid</td>\n",
              "      <td>furniture/equipment</td>\n",
              "      <td>2978.0</td>\n",
              "      <td>500&lt;=X&lt;1000</td>\n",
              "      <td>1&lt;=X&lt;4</td>\n",
              "      <td>1.0</td>\n",
              "      <td>male single</td>\n",
              "      <td>none</td>\n",
              "      <td>2.0</td>\n",
              "      <td>car</td>\n",
              "      <td>32.0</td>\n",
              "      <td>none</td>\n",
              "      <td>own</td>\n",
              "      <td>1.0</td>\n",
              "      <td>skilled</td>\n",
              "      <td>1.0</td>\n",
              "      <td>yes</td>\n",
              "      <td>yes</td>\n",
              "    </tr>\n",
              "    <tr>\n",
              "      <th>388</th>\n",
              "      <td>0&lt;=X&lt;200</td>\n",
              "      <td>15.0</td>\n",
              "      <td>critical/other existing credit</td>\n",
              "      <td>business</td>\n",
              "      <td>2326.0</td>\n",
              "      <td>500&lt;=X&lt;1000</td>\n",
              "      <td>1&lt;=X&lt;4</td>\n",
              "      <td>2.0</td>\n",
              "      <td>male single</td>\n",
              "      <td>none</td>\n",
              "      <td>4.0</td>\n",
              "      <td>car</td>\n",
              "      <td>27.0</td>\n",
              "      <td>bank</td>\n",
              "      <td>own</td>\n",
              "      <td>1.0</td>\n",
              "      <td>skilled</td>\n",
              "      <td>1.0</td>\n",
              "      <td>none</td>\n",
              "      <td>yes</td>\n",
              "    </tr>\n",
              "    <tr>\n",
              "      <th>917</th>\n",
              "      <td>&lt;0</td>\n",
              "      <td>6.0</td>\n",
              "      <td>existing paid</td>\n",
              "      <td>new car</td>\n",
              "      <td>14896.0</td>\n",
              "      <td>&lt;100</td>\n",
              "      <td>&gt;=7</td>\n",
              "      <td>1.0</td>\n",
              "      <td>male single</td>\n",
              "      <td>none</td>\n",
              "      <td>4.0</td>\n",
              "      <td>no known property</td>\n",
              "      <td>68.0</td>\n",
              "      <td>bank</td>\n",
              "      <td>own</td>\n",
              "      <td>1.0</td>\n",
              "      <td>high qualif/self emp/mgmt</td>\n",
              "      <td>1.0</td>\n",
              "      <td>yes</td>\n",
              "      <td>yes</td>\n",
              "    </tr>\n",
              "    <tr>\n",
              "      <th>783</th>\n",
              "      <td>0&lt;=X&lt;200</td>\n",
              "      <td>12.0</td>\n",
              "      <td>existing paid</td>\n",
              "      <td>new car</td>\n",
              "      <td>836.0</td>\n",
              "      <td>100&lt;=X&lt;500</td>\n",
              "      <td>&lt;1</td>\n",
              "      <td>4.0</td>\n",
              "      <td>female div/dep/mar</td>\n",
              "      <td>none</td>\n",
              "      <td>2.0</td>\n",
              "      <td>life insurance</td>\n",
              "      <td>23.0</td>\n",
              "      <td>bank</td>\n",
              "      <td>own</td>\n",
              "      <td>1.0</td>\n",
              "      <td>unskilled resident</td>\n",
              "      <td>1.0</td>\n",
              "      <td>none</td>\n",
              "      <td>yes</td>\n",
              "    </tr>\n",
              "  </tbody>\n",
              "</table>\n",
              "<p>750 rows × 20 columns</p>\n",
              "</div>"
            ],
            "text/plain": [
              "    checking_status  duration  ... own_telephone foreign_worker\n",
              "10         0<=X<200      12.0  ...          none            yes\n",
              "691        0<=X<200      15.0  ...          none            yes\n",
              "666        0<=X<200      30.0  ...           yes            yes\n",
              "138        0<=X<200      15.0  ...           yes            yes\n",
              "295        0<=X<200      48.0  ...           yes            yes\n",
              "..              ...       ...  ...           ...            ...\n",
              "56         0<=X<200      12.0  ...           yes            yes\n",
              "165     no checking       6.0  ...           yes            yes\n",
              "388        0<=X<200      15.0  ...          none            yes\n",
              "917              <0       6.0  ...           yes            yes\n",
              "783        0<=X<200      12.0  ...          none            yes\n",
              "\n",
              "[750 rows x 20 columns]"
            ]
          },
          "metadata": {
            "tags": []
          },
          "execution_count": 9
        }
      ]
    },
    {
      "cell_type": "code",
      "metadata": {
        "id": "t_L3M5SMH6v4",
        "colab_type": "code",
        "outputId": "0a1f9087-fb74-4d49-adac-c7a37af46cb7",
        "colab": {
          "base_uri": "https://localhost:8080/",
          "height": 323
        }
      },
      "source": [
        "X_train[\"checking_status\"] = X_train.checking_status.astype(\"category\").cat.codes\n",
        "X_train[\"savings_status\"] = X_train.savings_status.astype(\"category\").cat.codes\n",
        "X_train[\"employment\"] = X_train.employment.astype(\"category\").cat.codes"
      ],
      "execution_count": 0,
      "outputs": [
        {
          "output_type": "stream",
          "text": [
            "/usr/local/lib/python3.6/dist-packages/ipykernel_launcher.py:1: SettingWithCopyWarning: \n",
            "A value is trying to be set on a copy of a slice from a DataFrame.\n",
            "Try using .loc[row_indexer,col_indexer] = value instead\n",
            "\n",
            "See the caveats in the documentation: http://pandas.pydata.org/pandas-docs/stable/user_guide/indexing.html#returning-a-view-versus-a-copy\n",
            "  \"\"\"Entry point for launching an IPython kernel.\n",
            "/usr/local/lib/python3.6/dist-packages/ipykernel_launcher.py:2: SettingWithCopyWarning: \n",
            "A value is trying to be set on a copy of a slice from a DataFrame.\n",
            "Try using .loc[row_indexer,col_indexer] = value instead\n",
            "\n",
            "See the caveats in the documentation: http://pandas.pydata.org/pandas-docs/stable/user_guide/indexing.html#returning-a-view-versus-a-copy\n",
            "  \n",
            "/usr/local/lib/python3.6/dist-packages/ipykernel_launcher.py:3: SettingWithCopyWarning: \n",
            "A value is trying to be set on a copy of a slice from a DataFrame.\n",
            "Try using .loc[row_indexer,col_indexer] = value instead\n",
            "\n",
            "See the caveats in the documentation: http://pandas.pydata.org/pandas-docs/stable/user_guide/indexing.html#returning-a-view-versus-a-copy\n",
            "  This is separate from the ipykernel package so we can avoid doing imports until\n"
          ],
          "name": "stderr"
        }
      ]
    },
    {
      "cell_type": "code",
      "metadata": {
        "id": "lr-IYbvxLmfB",
        "colab_type": "code",
        "outputId": "9d18c0eb-19d3-44d5-b6e0-f8a93e085a9a",
        "colab": {
          "base_uri": "https://localhost:8080/",
          "height": 575
        }
      },
      "source": [
        "X_train"
      ],
      "execution_count": 0,
      "outputs": [
        {
          "output_type": "execute_result",
          "data": {
            "text/html": [
              "<div>\n",
              "<style scoped>\n",
              "    .dataframe tbody tr th:only-of-type {\n",
              "        vertical-align: middle;\n",
              "    }\n",
              "\n",
              "    .dataframe tbody tr th {\n",
              "        vertical-align: top;\n",
              "    }\n",
              "\n",
              "    .dataframe thead th {\n",
              "        text-align: right;\n",
              "    }\n",
              "</style>\n",
              "<table border=\"1\" class=\"dataframe\">\n",
              "  <thead>\n",
              "    <tr style=\"text-align: right;\">\n",
              "      <th></th>\n",
              "      <th>checking_status</th>\n",
              "      <th>duration</th>\n",
              "      <th>credit_history</th>\n",
              "      <th>purpose</th>\n",
              "      <th>credit_amount</th>\n",
              "      <th>savings_status</th>\n",
              "      <th>employment</th>\n",
              "      <th>installment_commitment</th>\n",
              "      <th>personal_status</th>\n",
              "      <th>other_parties</th>\n",
              "      <th>residence_since</th>\n",
              "      <th>property_magnitude</th>\n",
              "      <th>age</th>\n",
              "      <th>other_payment_plans</th>\n",
              "      <th>housing</th>\n",
              "      <th>existing_credits</th>\n",
              "      <th>job</th>\n",
              "      <th>num_dependents</th>\n",
              "      <th>own_telephone</th>\n",
              "      <th>foreign_worker</th>\n",
              "    </tr>\n",
              "  </thead>\n",
              "  <tbody>\n",
              "    <tr>\n",
              "      <th>10</th>\n",
              "      <td>1</td>\n",
              "      <td>12.0</td>\n",
              "      <td>existing paid</td>\n",
              "      <td>new car</td>\n",
              "      <td>1295.0</td>\n",
              "      <td>0</td>\n",
              "      <td>1</td>\n",
              "      <td>3.0</td>\n",
              "      <td>female div/dep/mar</td>\n",
              "      <td>none</td>\n",
              "      <td>1.0</td>\n",
              "      <td>car</td>\n",
              "      <td>25.0</td>\n",
              "      <td>none</td>\n",
              "      <td>rent</td>\n",
              "      <td>1.0</td>\n",
              "      <td>skilled</td>\n",
              "      <td>1.0</td>\n",
              "      <td>none</td>\n",
              "      <td>yes</td>\n",
              "    </tr>\n",
              "    <tr>\n",
              "      <th>691</th>\n",
              "      <td>1</td>\n",
              "      <td>15.0</td>\n",
              "      <td>existing paid</td>\n",
              "      <td>repairs</td>\n",
              "      <td>2631.0</td>\n",
              "      <td>1</td>\n",
              "      <td>2</td>\n",
              "      <td>3.0</td>\n",
              "      <td>female div/dep/mar</td>\n",
              "      <td>none</td>\n",
              "      <td>2.0</td>\n",
              "      <td>real estate</td>\n",
              "      <td>25.0</td>\n",
              "      <td>none</td>\n",
              "      <td>own</td>\n",
              "      <td>1.0</td>\n",
              "      <td>unskilled resident</td>\n",
              "      <td>1.0</td>\n",
              "      <td>none</td>\n",
              "      <td>yes</td>\n",
              "    </tr>\n",
              "    <tr>\n",
              "      <th>666</th>\n",
              "      <td>1</td>\n",
              "      <td>30.0</td>\n",
              "      <td>all paid</td>\n",
              "      <td>furniture/equipment</td>\n",
              "      <td>3496.0</td>\n",
              "      <td>3</td>\n",
              "      <td>2</td>\n",
              "      <td>4.0</td>\n",
              "      <td>male single</td>\n",
              "      <td>none</td>\n",
              "      <td>2.0</td>\n",
              "      <td>car</td>\n",
              "      <td>34.0</td>\n",
              "      <td>stores</td>\n",
              "      <td>own</td>\n",
              "      <td>1.0</td>\n",
              "      <td>skilled</td>\n",
              "      <td>2.0</td>\n",
              "      <td>yes</td>\n",
              "      <td>yes</td>\n",
              "    </tr>\n",
              "    <tr>\n",
              "      <th>138</th>\n",
              "      <td>1</td>\n",
              "      <td>15.0</td>\n",
              "      <td>critical/other existing credit</td>\n",
              "      <td>radio/tv</td>\n",
              "      <td>2728.0</td>\n",
              "      <td>4</td>\n",
              "      <td>3</td>\n",
              "      <td>4.0</td>\n",
              "      <td>male single</td>\n",
              "      <td>guarantor</td>\n",
              "      <td>2.0</td>\n",
              "      <td>real estate</td>\n",
              "      <td>35.0</td>\n",
              "      <td>bank</td>\n",
              "      <td>own</td>\n",
              "      <td>3.0</td>\n",
              "      <td>skilled</td>\n",
              "      <td>1.0</td>\n",
              "      <td>yes</td>\n",
              "      <td>yes</td>\n",
              "    </tr>\n",
              "    <tr>\n",
              "      <th>295</th>\n",
              "      <td>1</td>\n",
              "      <td>48.0</td>\n",
              "      <td>existing paid</td>\n",
              "      <td>furniture/equipment</td>\n",
              "      <td>9960.0</td>\n",
              "      <td>0</td>\n",
              "      <td>1</td>\n",
              "      <td>1.0</td>\n",
              "      <td>female div/dep/mar</td>\n",
              "      <td>none</td>\n",
              "      <td>2.0</td>\n",
              "      <td>car</td>\n",
              "      <td>26.0</td>\n",
              "      <td>none</td>\n",
              "      <td>own</td>\n",
              "      <td>1.0</td>\n",
              "      <td>skilled</td>\n",
              "      <td>1.0</td>\n",
              "      <td>yes</td>\n",
              "      <td>yes</td>\n",
              "    </tr>\n",
              "    <tr>\n",
              "      <th>...</th>\n",
              "      <td>...</td>\n",
              "      <td>...</td>\n",
              "      <td>...</td>\n",
              "      <td>...</td>\n",
              "      <td>...</td>\n",
              "      <td>...</td>\n",
              "      <td>...</td>\n",
              "      <td>...</td>\n",
              "      <td>...</td>\n",
              "      <td>...</td>\n",
              "      <td>...</td>\n",
              "      <td>...</td>\n",
              "      <td>...</td>\n",
              "      <td>...</td>\n",
              "      <td>...</td>\n",
              "      <td>...</td>\n",
              "      <td>...</td>\n",
              "      <td>...</td>\n",
              "      <td>...</td>\n",
              "      <td>...</td>\n",
              "    </tr>\n",
              "    <tr>\n",
              "      <th>56</th>\n",
              "      <td>1</td>\n",
              "      <td>12.0</td>\n",
              "      <td>existing paid</td>\n",
              "      <td>radio/tv</td>\n",
              "      <td>6468.0</td>\n",
              "      <td>4</td>\n",
              "      <td>0</td>\n",
              "      <td>2.0</td>\n",
              "      <td>male single</td>\n",
              "      <td>none</td>\n",
              "      <td>1.0</td>\n",
              "      <td>no known property</td>\n",
              "      <td>52.0</td>\n",
              "      <td>none</td>\n",
              "      <td>own</td>\n",
              "      <td>1.0</td>\n",
              "      <td>high qualif/self emp/mgmt</td>\n",
              "      <td>1.0</td>\n",
              "      <td>yes</td>\n",
              "      <td>yes</td>\n",
              "    </tr>\n",
              "    <tr>\n",
              "      <th>165</th>\n",
              "      <td>3</td>\n",
              "      <td>6.0</td>\n",
              "      <td>existing paid</td>\n",
              "      <td>furniture/equipment</td>\n",
              "      <td>2978.0</td>\n",
              "      <td>2</td>\n",
              "      <td>2</td>\n",
              "      <td>1.0</td>\n",
              "      <td>male single</td>\n",
              "      <td>none</td>\n",
              "      <td>2.0</td>\n",
              "      <td>car</td>\n",
              "      <td>32.0</td>\n",
              "      <td>none</td>\n",
              "      <td>own</td>\n",
              "      <td>1.0</td>\n",
              "      <td>skilled</td>\n",
              "      <td>1.0</td>\n",
              "      <td>yes</td>\n",
              "      <td>yes</td>\n",
              "    </tr>\n",
              "    <tr>\n",
              "      <th>388</th>\n",
              "      <td>1</td>\n",
              "      <td>15.0</td>\n",
              "      <td>critical/other existing credit</td>\n",
              "      <td>business</td>\n",
              "      <td>2326.0</td>\n",
              "      <td>2</td>\n",
              "      <td>2</td>\n",
              "      <td>2.0</td>\n",
              "      <td>male single</td>\n",
              "      <td>none</td>\n",
              "      <td>4.0</td>\n",
              "      <td>car</td>\n",
              "      <td>27.0</td>\n",
              "      <td>bank</td>\n",
              "      <td>own</td>\n",
              "      <td>1.0</td>\n",
              "      <td>skilled</td>\n",
              "      <td>1.0</td>\n",
              "      <td>none</td>\n",
              "      <td>yes</td>\n",
              "    </tr>\n",
              "    <tr>\n",
              "      <th>917</th>\n",
              "      <td>0</td>\n",
              "      <td>6.0</td>\n",
              "      <td>existing paid</td>\n",
              "      <td>new car</td>\n",
              "      <td>14896.0</td>\n",
              "      <td>0</td>\n",
              "      <td>4</td>\n",
              "      <td>1.0</td>\n",
              "      <td>male single</td>\n",
              "      <td>none</td>\n",
              "      <td>4.0</td>\n",
              "      <td>no known property</td>\n",
              "      <td>68.0</td>\n",
              "      <td>bank</td>\n",
              "      <td>own</td>\n",
              "      <td>1.0</td>\n",
              "      <td>high qualif/self emp/mgmt</td>\n",
              "      <td>1.0</td>\n",
              "      <td>yes</td>\n",
              "      <td>yes</td>\n",
              "    </tr>\n",
              "    <tr>\n",
              "      <th>783</th>\n",
              "      <td>1</td>\n",
              "      <td>12.0</td>\n",
              "      <td>existing paid</td>\n",
              "      <td>new car</td>\n",
              "      <td>836.0</td>\n",
              "      <td>1</td>\n",
              "      <td>1</td>\n",
              "      <td>4.0</td>\n",
              "      <td>female div/dep/mar</td>\n",
              "      <td>none</td>\n",
              "      <td>2.0</td>\n",
              "      <td>life insurance</td>\n",
              "      <td>23.0</td>\n",
              "      <td>bank</td>\n",
              "      <td>own</td>\n",
              "      <td>1.0</td>\n",
              "      <td>unskilled resident</td>\n",
              "      <td>1.0</td>\n",
              "      <td>none</td>\n",
              "      <td>yes</td>\n",
              "    </tr>\n",
              "  </tbody>\n",
              "</table>\n",
              "<p>750 rows × 20 columns</p>\n",
              "</div>"
            ],
            "text/plain": [
              "     checking_status  duration  ... own_telephone foreign_worker\n",
              "10                 1      12.0  ...          none            yes\n",
              "691                1      15.0  ...          none            yes\n",
              "666                1      30.0  ...           yes            yes\n",
              "138                1      15.0  ...           yes            yes\n",
              "295                1      48.0  ...           yes            yes\n",
              "..               ...       ...  ...           ...            ...\n",
              "56                 1      12.0  ...           yes            yes\n",
              "165                3       6.0  ...           yes            yes\n",
              "388                1      15.0  ...          none            yes\n",
              "917                0       6.0  ...           yes            yes\n",
              "783                1      12.0  ...          none            yes\n",
              "\n",
              "[750 rows x 20 columns]"
            ]
          },
          "metadata": {
            "tags": []
          },
          "execution_count": 11
        }
      ]
    },
    {
      "cell_type": "code",
      "metadata": {
        "id": "1u03DxFjNlcf",
        "colab_type": "code",
        "colab": {}
      },
      "source": [
        "onehot_enc = OneHotEncoder(handle_unknown='ignore')\n",
        "onehot_enc.fit(X_train)\n",
        "X_train_enc = onehot_enc.transform(X_train).toarray()"
      ],
      "execution_count": 0,
      "outputs": []
    },
    {
      "cell_type": "code",
      "metadata": {
        "id": "NP0XVYIIPg-c",
        "colab_type": "code",
        "colab": {}
      },
      "source": [
        "l_enc = LabelEncoder()\n",
        "l_enc.fit(y_train)\n",
        "y_train_enc = l_enc.transform(y_train)"
      ],
      "execution_count": 0,
      "outputs": []
    },
    {
      "cell_type": "code",
      "metadata": {
        "id": "hfSuec9SCZJ5",
        "colab_type": "code",
        "colab": {}
      },
      "source": [
        "X_train_new, X_valid, y_train_new, y_valid = train_test_split(X_train_enc, y_train_enc)"
      ],
      "execution_count": 0,
      "outputs": []
    },
    {
      "cell_type": "code",
      "metadata": {
        "id": "2aJWb_CTQPx-",
        "colab_type": "code",
        "outputId": "40c04620-188d-4c32-8772-c18f88053ced",
        "colab": {
          "base_uri": "https://localhost:8080/",
          "height": 34
        }
      },
      "source": [
        "clf = LogisticRegression().fit(X_train_new, y_train_new)\n",
        "clf.score(X_valid, y_valid)"
      ],
      "execution_count": 0,
      "outputs": [
        {
          "output_type": "execute_result",
          "data": {
            "text/plain": [
              "0.7074468085106383"
            ]
          },
          "metadata": {
            "tags": []
          },
          "execution_count": 15
        }
      ]
    },
    {
      "cell_type": "markdown",
      "metadata": {
        "id": "LRz9zyy6TLWa",
        "colab_type": "text"
      },
      "source": [
        "## 1.4 Use ColumnTransformer and pipeline to encode categorical variables (your choice of OneHotEncoder or another one from the categorical_encoder package, or both). \n",
        "Evaluate\n",
        "Logistic Regression, linear support vector machines and nearest neighbors using\n",
        "cross-validation. How different are the results? How does scaling the continuous features with\n",
        "StandardScaler influence the results?"
      ]
    },
    {
      "cell_type": "code",
      "metadata": {
        "id": "rcxsTLjAE_6b",
        "colab_type": "code",
        "colab": {}
      },
      "source": [
        "X_train, X_test, y_train, y_test = train_test_split(X, y)"
      ],
      "execution_count": 0,
      "outputs": []
    },
    {
      "cell_type": "code",
      "metadata": {
        "id": "UXZvflEYM9sx",
        "colab_type": "code",
        "colab": {}
      },
      "source": [
        "l_enc = LabelEncoder()\n",
        "l_enc.fit(y_train)\n",
        "y_train_enc = l_enc.transform(y_train)"
      ],
      "execution_count": 0,
      "outputs": []
    },
    {
      "cell_type": "code",
      "metadata": {
        "colab_type": "code",
        "id": "ZqqWt7P6W0it",
        "colab": {}
      },
      "source": [
        "categorical = X_train.dtypes == 'category'\n",
        "\n",
        "preprocess_scale = make_column_transformer(\n",
        "    (StandardScaler(), ~categorical),\n",
        "    (OneHotEncoder(), categorical))\n",
        "preprocess_noscale = make_column_transformer(\n",
        "    ('passthrough', ~categorical),\n",
        "    (OneHotEncoder(), categorical))\n",
        "\n",
        "model_scale_lr = make_pipeline(preprocess_scale, LogisticRegression())\n",
        "model_scale_svm = make_pipeline(preprocess_scale, LinearSVC(dual=False))\n",
        "model_scale_knn = make_pipeline(preprocess_scale, KNeighborsClassifier())\n",
        "model_noscale_lr = make_pipeline(preprocess_noscale, LogisticRegression())\n",
        "model_noscale_svm = make_pipeline(preprocess_noscale, LinearSVC(dual=False))\n",
        "model_noscale_knn = make_pipeline(preprocess_noscale, KNeighborsClassifier())"
      ],
      "execution_count": 0,
      "outputs": []
    },
    {
      "cell_type": "code",
      "metadata": {
        "id": "ZYg22mjCW64o",
        "colab_type": "code",
        "outputId": "bf9d4874-b910-4688-85bb-2b3d3e5cca9d",
        "colab": {
          "base_uri": "https://localhost:8080/",
          "height": 34
        }
      },
      "source": [
        "scores = cross_val_score(model_scale_lr, X_train, y_train_enc)\n",
        "np.mean(scores)"
      ],
      "execution_count": 0,
      "outputs": [
        {
          "output_type": "execute_result",
          "data": {
            "text/plain": [
              "0.7666666666666666"
            ]
          },
          "metadata": {
            "tags": []
          },
          "execution_count": 19
        }
      ]
    },
    {
      "cell_type": "code",
      "metadata": {
        "id": "qY1IY5uEQRtE",
        "colab_type": "code",
        "outputId": "acb6db8c-53f4-4afa-c228-913307837012",
        "colab": {
          "base_uri": "https://localhost:8080/",
          "height": 34
        }
      },
      "source": [
        "scores = cross_val_score(model_scale_svm, X_train, y_train_enc)\n",
        "np.mean(scores)"
      ],
      "execution_count": 0,
      "outputs": [
        {
          "output_type": "execute_result",
          "data": {
            "text/plain": [
              "0.7706666666666667"
            ]
          },
          "metadata": {
            "tags": []
          },
          "execution_count": 20
        }
      ]
    },
    {
      "cell_type": "code",
      "metadata": {
        "id": "ssBT9pajQbgh",
        "colab_type": "code",
        "outputId": "38ad297a-9eb8-4979-e14f-56503aac7cbe",
        "colab": {
          "base_uri": "https://localhost:8080/",
          "height": 34
        }
      },
      "source": [
        "scores = cross_val_score(model_scale_knn, X_train, y_train_enc)\n",
        "np.mean(scores)"
      ],
      "execution_count": 0,
      "outputs": [
        {
          "output_type": "execute_result",
          "data": {
            "text/plain": [
              "0.74"
            ]
          },
          "metadata": {
            "tags": []
          },
          "execution_count": 21
        }
      ]
    },
    {
      "cell_type": "code",
      "metadata": {
        "id": "VwBMyvoBQhmR",
        "colab_type": "code",
        "outputId": "7e0160eb-678a-45e9-f098-a75f50df35ef",
        "colab": {
          "base_uri": "https://localhost:8080/",
          "height": 714
        }
      },
      "source": [
        "scores = cross_val_score(model_noscale_lr, X_train, y_train_enc)\n",
        "np.mean(scores)"
      ],
      "execution_count": 0,
      "outputs": [
        {
          "output_type": "stream",
          "text": [
            "/usr/local/lib/python3.6/dist-packages/sklearn/linear_model/_logistic.py:940: ConvergenceWarning: lbfgs failed to converge (status=1):\n",
            "STOP: TOTAL NO. of ITERATIONS REACHED LIMIT.\n",
            "\n",
            "Increase the number of iterations (max_iter) or scale the data as shown in:\n",
            "    https://scikit-learn.org/stable/modules/preprocessing.html\n",
            "Please also refer to the documentation for alternative solver options:\n",
            "    https://scikit-learn.org/stable/modules/linear_model.html#logistic-regression\n",
            "  extra_warning_msg=_LOGISTIC_SOLVER_CONVERGENCE_MSG)\n",
            "/usr/local/lib/python3.6/dist-packages/sklearn/linear_model/_logistic.py:940: ConvergenceWarning: lbfgs failed to converge (status=1):\n",
            "STOP: TOTAL NO. of ITERATIONS REACHED LIMIT.\n",
            "\n",
            "Increase the number of iterations (max_iter) or scale the data as shown in:\n",
            "    https://scikit-learn.org/stable/modules/preprocessing.html\n",
            "Please also refer to the documentation for alternative solver options:\n",
            "    https://scikit-learn.org/stable/modules/linear_model.html#logistic-regression\n",
            "  extra_warning_msg=_LOGISTIC_SOLVER_CONVERGENCE_MSG)\n",
            "/usr/local/lib/python3.6/dist-packages/sklearn/linear_model/_logistic.py:940: ConvergenceWarning: lbfgs failed to converge (status=1):\n",
            "STOP: TOTAL NO. of ITERATIONS REACHED LIMIT.\n",
            "\n",
            "Increase the number of iterations (max_iter) or scale the data as shown in:\n",
            "    https://scikit-learn.org/stable/modules/preprocessing.html\n",
            "Please also refer to the documentation for alternative solver options:\n",
            "    https://scikit-learn.org/stable/modules/linear_model.html#logistic-regression\n",
            "  extra_warning_msg=_LOGISTIC_SOLVER_CONVERGENCE_MSG)\n",
            "/usr/local/lib/python3.6/dist-packages/sklearn/linear_model/_logistic.py:940: ConvergenceWarning: lbfgs failed to converge (status=1):\n",
            "STOP: TOTAL NO. of ITERATIONS REACHED LIMIT.\n",
            "\n",
            "Increase the number of iterations (max_iter) or scale the data as shown in:\n",
            "    https://scikit-learn.org/stable/modules/preprocessing.html\n",
            "Please also refer to the documentation for alternative solver options:\n",
            "    https://scikit-learn.org/stable/modules/linear_model.html#logistic-regression\n",
            "  extra_warning_msg=_LOGISTIC_SOLVER_CONVERGENCE_MSG)\n",
            "/usr/local/lib/python3.6/dist-packages/sklearn/linear_model/_logistic.py:940: ConvergenceWarning: lbfgs failed to converge (status=1):\n",
            "STOP: TOTAL NO. of ITERATIONS REACHED LIMIT.\n",
            "\n",
            "Increase the number of iterations (max_iter) or scale the data as shown in:\n",
            "    https://scikit-learn.org/stable/modules/preprocessing.html\n",
            "Please also refer to the documentation for alternative solver options:\n",
            "    https://scikit-learn.org/stable/modules/linear_model.html#logistic-regression\n",
            "  extra_warning_msg=_LOGISTIC_SOLVER_CONVERGENCE_MSG)\n"
          ],
          "name": "stderr"
        },
        {
          "output_type": "execute_result",
          "data": {
            "text/plain": [
              "0.768"
            ]
          },
          "metadata": {
            "tags": []
          },
          "execution_count": 22
        }
      ]
    },
    {
      "cell_type": "code",
      "metadata": {
        "id": "52Sc62S-Qt3S",
        "colab_type": "code",
        "outputId": "838365d7-441a-44f4-84cd-3f3f877b571a",
        "colab": {
          "base_uri": "https://localhost:8080/",
          "height": 34
        }
      },
      "source": [
        "scores = cross_val_score(model_noscale_svm, X_train, y_train_enc)\n",
        "np.mean(scores)"
      ],
      "execution_count": 0,
      "outputs": [
        {
          "output_type": "execute_result",
          "data": {
            "text/plain": [
              "0.7653333333333333"
            ]
          },
          "metadata": {
            "tags": []
          },
          "execution_count": 23
        }
      ]
    },
    {
      "cell_type": "code",
      "metadata": {
        "id": "Ftw4gHEFQxxI",
        "colab_type": "code",
        "outputId": "511da1e3-37c1-4620-d281-0b3157ea9868",
        "colab": {
          "base_uri": "https://localhost:8080/",
          "height": 34
        }
      },
      "source": [
        "scores = cross_val_score(model_noscale_knn, X_train, y_train_enc)\n",
        "np.mean(scores)"
      ],
      "execution_count": 0,
      "outputs": [
        {
          "output_type": "execute_result",
          "data": {
            "text/plain": [
              "0.6706666666666666"
            ]
          },
          "metadata": {
            "tags": []
          },
          "execution_count": 24
        }
      ]
    },
    {
      "cell_type": "markdown",
      "metadata": {
        "id": "_KG0BRhgRDZU",
        "colab_type": "text"
      },
      "source": [
        "I set the parameter 'dual' equals to false for the linear SVM model, because in our dataset the number of samples is larger than the number of features.\n",
        "\n",
        "If I don't scale the data, the logistic regression model doesn't coverge and its score is 0.768. The linear SVM model's score is 0.765 and the KNN model's score is only 0.671.\n",
        "\n",
        "After I scale the data, the linear SVM and the KNN model's scores improved:\n",
        "\n",
        "*   Logistic regression: 0.767\n",
        "*   Linear SVM: 0.771\n",
        "*   KNN: 0.74\n",
        "\n",
        "As the professor said in class, scaling helps improve the score of the KNN model a lot. The linear SVM model's score slightly improves, and the logistic regression model's score doesn't change that much.\n"
      ]
    },
    {
      "cell_type": "markdown",
      "metadata": {
        "id": "Sh6N_6s4U8xn",
        "colab_type": "text"
      },
      "source": [
        "## 1.5 Tune the parameters using GridSearchCV. Do the results improve? Evaluate the model only on the test set.\n",
        "Visualize the performance as function of the parameters for all three models."
      ]
    },
    {
      "cell_type": "code",
      "metadata": {
        "id": "ELROK6s3Vt82",
        "colab_type": "code",
        "colab": {}
      },
      "source": [
        "X_train, X_test, y_train, y_test = train_test_split(X, y)"
      ],
      "execution_count": 0,
      "outputs": []
    },
    {
      "cell_type": "code",
      "metadata": {
        "id": "w7lPuoriWF5I",
        "colab_type": "code",
        "colab": {}
      },
      "source": [
        "categorical = X_train.dtypes == 'category'\n",
        "\n",
        "preprocess_scale = make_column_transformer(\n",
        "    (StandardScaler(), ~categorical),\n",
        "    (OneHotEncoder(), categorical))"
      ],
      "execution_count": 0,
      "outputs": []
    },
    {
      "cell_type": "code",
      "metadata": {
        "id": "PcSxwK2VV8rY",
        "colab_type": "code",
        "colab": {}
      },
      "source": [
        "l_enc = LabelEncoder()\n",
        "y_test_enc = l_enc.fit_transform(y_test)\n",
        "y_train_enc = l_enc.fit_transform(y_train)"
      ],
      "execution_count": 0,
      "outputs": []
    },
    {
      "cell_type": "code",
      "metadata": {
        "id": "zNWbmsL4X6RN",
        "colab_type": "code",
        "outputId": "1bde787c-12ef-4f63-a805-1fc03efa3dab",
        "colab": {
          "base_uri": "https://localhost:8080/",
          "height": 102
        }
      },
      "source": [
        "LogisticRegression().get_params"
      ],
      "execution_count": 0,
      "outputs": [
        {
          "output_type": "execute_result",
          "data": {
            "text/plain": [
              "<bound method BaseEstimator.get_params of LogisticRegression(C=1.0, class_weight=None, dual=False, fit_intercept=True,\n",
              "                   intercept_scaling=1, l1_ratio=None, max_iter=100,\n",
              "                   multi_class='auto', n_jobs=None, penalty='l2',\n",
              "                   random_state=None, solver='lbfgs', tol=0.0001, verbose=0,\n",
              "                   warm_start=False)>"
            ]
          },
          "metadata": {
            "tags": []
          },
          "execution_count": 28
        }
      ]
    },
    {
      "cell_type": "code",
      "metadata": {
        "id": "Hqdw58-5Y7Q3",
        "colab_type": "code",
        "outputId": "a914183e-03b0-44ca-ff11-b1c881daea19",
        "colab": {
          "base_uri": "https://localhost:8080/",
          "height": 85
        }
      },
      "source": [
        "LinearSVC().get_params"
      ],
      "execution_count": 0,
      "outputs": [
        {
          "output_type": "execute_result",
          "data": {
            "text/plain": [
              "<bound method BaseEstimator.get_params of LinearSVC(C=1.0, class_weight=None, dual=True, fit_intercept=True,\n",
              "          intercept_scaling=1, loss='squared_hinge', max_iter=1000,\n",
              "          multi_class='ovr', penalty='l2', random_state=None, tol=0.0001,\n",
              "          verbose=0)>"
            ]
          },
          "metadata": {
            "tags": []
          },
          "execution_count": 29
        }
      ]
    },
    {
      "cell_type": "code",
      "metadata": {
        "id": "lvWytEX7b2UB",
        "colab_type": "code",
        "outputId": "d91a33bd-56e6-4520-d885-855d59fe343d",
        "colab": {
          "base_uri": "https://localhost:8080/",
          "height": 68
        }
      },
      "source": [
        "KNeighborsClassifier().get_params"
      ],
      "execution_count": 0,
      "outputs": [
        {
          "output_type": "execute_result",
          "data": {
            "text/plain": [
              "<bound method BaseEstimator.get_params of KNeighborsClassifier(algorithm='auto', leaf_size=30, metric='minkowski',\n",
              "                     metric_params=None, n_jobs=None, n_neighbors=5, p=2,\n",
              "                     weights='uniform')>"
            ]
          },
          "metadata": {
            "tags": []
          },
          "execution_count": 30
        }
      ]
    },
    {
      "cell_type": "code",
      "metadata": {
        "id": "7JQNIm0ZjSLR",
        "colab_type": "code",
        "colab": {}
      },
      "source": [
        "C_space = np.logspace(-3, 3, 7)\n",
        "N_neighbors_space = [3, 4, 5, 6, 7]"
      ],
      "execution_count": 0,
      "outputs": []
    },
    {
      "cell_type": "code",
      "metadata": {
        "id": "vuC9xOPQPY71",
        "colab_type": "code",
        "colab": {}
      },
      "source": [
        "pipe = Pipeline([('scaler', preprocess_scale),\n",
        "                 ('regressor', LogisticRegression())])\n",
        "\n",
        "param_grid = [{'regressor': [LogisticRegression(solver='liblinear')],\n",
        "               'regressor__C': C_space,\n",
        "               'scaler': [preprocess_scale]},\n",
        "              {'regressor': [LinearSVC(dual=False)],\n",
        "               'regressor__C': C_space,\n",
        "               'scaler': [preprocess_scale]},\n",
        "              {'regressor': [KNeighborsClassifier()],\n",
        "               'regressor__n_neighbors': N_neighbors_space,\n",
        "               'scaler': [preprocess_scale]}\n",
        "             ]\n"
      ],
      "execution_count": 0,
      "outputs": []
    },
    {
      "cell_type": "code",
      "metadata": {
        "id": "DOe0I4EfPdOz",
        "colab_type": "code",
        "outputId": "c34c67c2-17a5-40c4-90d2-453da1051445",
        "colab": {
          "base_uri": "https://localhost:8080/",
          "height": 612
        }
      },
      "source": [
        "grid = GridSearchCV(pipe, param_grid, return_train_score=True)\n",
        "grid.fit(X_train, y_train_enc)"
      ],
      "execution_count": 0,
      "outputs": [
        {
          "output_type": "execute_result",
          "data": {
            "text/plain": [
              "GridSearchCV(cv=None, error_score=nan,\n",
              "             estimator=Pipeline(memory=None,\n",
              "                                steps=[('scaler',\n",
              "                                        ColumnTransformer(n_jobs=None,\n",
              "                                                          remainder='drop',\n",
              "                                                          sparse_threshold=0.3,\n",
              "                                                          transformer_weights=None,\n",
              "                                                          transformers=[('standardscaler',\n",
              "                                                                         StandardScaler(copy=True,\n",
              "                                                                                        with_mean=True,\n",
              "                                                                                        with_std=True),\n",
              "                                                                         checking_status           False\n",
              "duration                   True\n",
              "credit_history            False\n",
              "purpose                   False\n",
              "credit_amount              True\n",
              "savin...\n",
              "employment                 True\n",
              "installment_commitment    False\n",
              "personal_status            True\n",
              "other_parties              True\n",
              "residence_since           False\n",
              "property_magnitude         True\n",
              "age                       False\n",
              "other_payment_plans        True\n",
              "housing                    True\n",
              "existing_credits          False\n",
              "job                        True\n",
              "num_dependents            False\n",
              "own_telephone              True\n",
              "foreign_worker             True\n",
              "dtype: bool)],\n",
              "                                                       verbose=False)]}],\n",
              "             pre_dispatch='2*n_jobs', refit=True, return_train_score=True,\n",
              "             scoring=None, verbose=0)"
            ]
          },
          "metadata": {
            "tags": []
          },
          "execution_count": 33
        }
      ]
    },
    {
      "cell_type": "code",
      "metadata": {
        "id": "SbHon1DJdQEk",
        "colab_type": "code",
        "outputId": "9712114e-24c0-4ea4-8fd8-68871dcf5d6f",
        "colab": {
          "base_uri": "https://localhost:8080/",
          "height": 34
        }
      },
      "source": [
        "grid.score(X_test, y_test_enc)"
      ],
      "execution_count": 0,
      "outputs": [
        {
          "output_type": "execute_result",
          "data": {
            "text/plain": [
              "0.748"
            ]
          },
          "metadata": {
            "tags": []
          },
          "execution_count": 34
        }
      ]
    },
    {
      "cell_type": "code",
      "metadata": {
        "id": "V7Pf36WhXu6g",
        "colab_type": "code",
        "outputId": "f949b761-7b60-45fe-cca7-3f274576ae50",
        "colab": {
          "base_uri": "https://localhost:8080/",
          "height": 731
        }
      },
      "source": [
        "grid.best_params_"
      ],
      "execution_count": 0,
      "outputs": [
        {
          "output_type": "execute_result",
          "data": {
            "text/plain": [
              "{'regressor': LinearSVC(C=0.1, class_weight=None, dual=False, fit_intercept=True,\n",
              "           intercept_scaling=1, loss='squared_hinge', max_iter=1000,\n",
              "           multi_class='ovr', penalty='l2', random_state=None, tol=0.0001,\n",
              "           verbose=0),\n",
              " 'regressor__C': 0.1,\n",
              " 'scaler': ColumnTransformer(n_jobs=None, remainder='drop', sparse_threshold=0.3,\n",
              "                   transformer_weights=None,\n",
              "                   transformers=[('standardscaler',\n",
              "                                  StandardScaler(copy=True, with_mean=True,\n",
              "                                                 with_std=True),\n",
              "                                  checking_status           False\n",
              " duration                   True\n",
              " credit_history            False\n",
              " purpose                   False\n",
              " credit_amount              True\n",
              " savings_status            False\n",
              " employment                False\n",
              " installment_commitment     True\n",
              " personal_status           False\n",
              " other_part...\n",
              "                                  checking_status            True\n",
              " duration                  False\n",
              " credit_history             True\n",
              " purpose                    True\n",
              " credit_amount             False\n",
              " savings_status             True\n",
              " employment                 True\n",
              " installment_commitment    False\n",
              " personal_status            True\n",
              " other_parties              True\n",
              " residence_since           False\n",
              " property_magnitude         True\n",
              " age                       False\n",
              " other_payment_plans        True\n",
              " housing                    True\n",
              " existing_credits          False\n",
              " job                        True\n",
              " num_dependents            False\n",
              " own_telephone              True\n",
              " foreign_worker             True\n",
              " dtype: bool)],\n",
              "                   verbose=False)}"
            ]
          },
          "metadata": {
            "tags": []
          },
          "execution_count": 35
        }
      ]
    },
    {
      "cell_type": "code",
      "metadata": {
        "id": "SaWfx-phr-ra",
        "colab_type": "code",
        "colab": {}
      },
      "source": [
        "cross_val_train_score = grid.cv_results_['mean_train_score']\n",
        "cross_val_test_score = grid.cv_results_['mean_test_score']\n",
        "cross_val_train_std = grid.cv_results_['std_train_score']\n",
        "cross_val_test_std = grid.cv_results_['std_test_score']"
      ],
      "execution_count": 0,
      "outputs": []
    },
    {
      "cell_type": "code",
      "metadata": {
        "id": "pJRvSfW_uPhW",
        "colab_type": "code",
        "colab": {}
      },
      "source": [
        "def plot_score(name, X, train_score, test_score, train_std, test_std, log=True):\n",
        "    # figure = plt.subplots(1, 3, figsize=(20,5))\n",
        "    plt.plot(X, train_score, color='blue', label='mean_train_score')\n",
        "    plt.fill_between(X, train_score + train_std, train_score - train_std, color='blue', alpha=0.3)\n",
        "    plt.plot(X, test_score, color='orange', label='mean_test_score')\n",
        "    plt.fill_between(X, test_score + test_std, test_score - test_std, color='orange', alpha=0.3)\n",
        "    if log == True:\n",
        "        plt.xscale(\"log\")\n",
        "    plt.title(name)\n",
        "    plt.legend()\n",
        "    plt.show()"
      ],
      "execution_count": 0,
      "outputs": []
    },
    {
      "cell_type": "code",
      "metadata": {
        "id": "i0cbJnA3gTNh",
        "colab_type": "code",
        "outputId": "7704ad02-8f44-4873-de0f-6f243e1e076e",
        "colab": {
          "base_uri": "https://localhost:8080/",
          "height": 817
        }
      },
      "source": [
        "plot_score(\"Logistic Regression\", C_space, cross_val_train_score[:7], cross_val_test_score[:7], cross_val_train_std[:7], cross_val_test_std[:7])\n",
        "plot_score(\"Linear SVM\", C_space, cross_val_train_score[7:14], cross_val_test_score[7:14], cross_val_train_std[7:14], cross_val_test_std[7:14])\n",
        "plot_score(\"K Nearest neighbors\", N_neighbors_space, cross_val_train_score[14:19], cross_val_test_score[14:19], cross_val_train_std[14:19], cross_val_test_std[14:19], log=False)\n",
        "# fig, ax = plt.subplots(1, 3, figsize=(20,5))\n",
        "# ax[0].plot(C_space, cross_val_train_score[:7], color='blue')\n",
        "# ax[0].fill_between(C_space, cross_val_train_score[:7] + cross_val_train_std[:7], cross_val_train_score[:7] - cross_val_train_std[:7], color='lightblue')\n",
        "# ax[0].plot(C_space, cross_val_test_score[:7], color='orange')\n",
        "# ax[0].fill_between(C_space, cross_val_test_score[:7] + cross_val_test_std[:7], cross_val_test_score[:7] - cross_val_test_std[:7], color='orange', alpha=0.3)\n",
        "# ax[0].set_xscale(\"log\")\n",
        "# ax[1].plot(C_space, cross_val_train_score[7:14], color='blue')\n",
        "# ax[1].fill_between(C_space, cross_val_train_score[7:14] + cross_val_train_std[7:14], cross_val_train_score[7:14] - cross_val_train_std[7:14], color='lightblue')\n",
        "# ax[1].plot(C_space, cross_val_test_score[7:14], color='orange')\n",
        "# ax[1].fill_between(C_space, cross_val_test_score[7:14] + cross_val_test_std[7:14], cross_val_test_score[7:14] - cross_val_test_std[7:14], color='orange', alpha=0.3)\n",
        "# ax[1].set_xscale(\"log\")\n",
        "# ax[2].plot(N_neighbors_space, cross_val_test_score[14:19])"
      ],
      "execution_count": 0,
      "outputs": [
        {
          "output_type": "display_data",
          "data": {
            "image/png": "[encoded data removed]",
            "text/plain": [
              "<Figure size 432x288 with 1 Axes>"
            ]
          },
          "metadata": {
            "tags": []
          }
        },
        {
          "output_type": "display_data",
          "data": {
            "image/png": "[encoded data removed]",
            "text/plain": [
              "<Figure size 432x288 with 1 Axes>"
            ]
          },
          "metadata": {
            "tags": []
          }
        },
        {
          "output_type": "display_data",
          "data": {
            "image/png": "[encoded data removed]",
            "text/plain": [
              "<Figure size 432x288 with 1 Axes>"
            ]
          },
          "metadata": {
            "tags": []
          }
        }
      ]
    },
    {
      "cell_type": "markdown",
      "metadata": {
        "id": "ni1vnO0PkzbD",
        "colab_type": "text"
      },
      "source": [
        "The results improve and the cross validation scores become higher, because the grid search helps me find the optimal parameter settings. The test score is 0.748 for the best model."
      ]
    },
    {
      "cell_type": "markdown",
      "metadata": {
        "id": "wfOCZLQUkuOY",
        "colab_type": "text"
      },
      "source": [
        "## 1.6 Change the cross-validation strategy from ‘stratified k-fold’ to ‘kfold’ with shuffling. Do the parameters that are found change? \n",
        "Do they change if you change the random seed of the\n",
        "shuffling? Or if you change the random state of the split into training and test data?"
      ]
    },
    {
      "cell_type": "markdown",
      "metadata": {
        "id": "DEPeeTpimaqK",
        "colab_type": "text"
      },
      "source": [
        "**a. Change ‘stratified k-fold’ to ‘kfold’ with shuffling**"
      ]
    },
    {
      "cell_type": "code",
      "metadata": {
        "id": "XuPCXG7doICm",
        "colab_type": "code",
        "colab": {}
      },
      "source": [
        "kf_non_random = KFold(n_splits=5, random_state=None, shuffle=True)"
      ],
      "execution_count": 0,
      "outputs": []
    },
    {
      "cell_type": "code",
      "metadata": {
        "id": "pJYDcg10lT7j",
        "colab_type": "code",
        "outputId": "32dcb6bf-0a12-4a34-f9bc-5bd33d385feb",
        "colab": {
          "base_uri": "https://localhost:8080/",
          "height": 578
        }
      },
      "source": [
        "grid_kfold = GridSearchCV(pipe, param_grid, cv=kf_non_random)\n",
        "grid_kfold.fit(X_train, y_train_enc)"
      ],
      "execution_count": 0,
      "outputs": [
        {
          "output_type": "execute_result",
          "data": {
            "text/plain": [
              "GridSearchCV(cv=KFold(n_splits=5, random_state=None, shuffle=True),\n",
              "             error_score=nan,\n",
              "             estimator=Pipeline(memory=None,\n",
              "                                steps=[('scaler',\n",
              "                                        ColumnTransformer(n_jobs=None,\n",
              "                                                          remainder='drop',\n",
              "                                                          sparse_threshold=0.3,\n",
              "                                                          transformer_weights=None,\n",
              "                                                          transformers=[('standardscaler',\n",
              "                                                                         StandardScaler(copy=True,\n",
              "                                                                                        with_mean=True,\n",
              "                                                                                        with_std=True),\n",
              "                                                                         checking_status           False\n",
              "duration                   True\n",
              "credit_hi...\n",
              "employment                 True\n",
              "installment_commitment    False\n",
              "personal_status            True\n",
              "other_parties              True\n",
              "residence_since           False\n",
              "property_magnitude         True\n",
              "age                       False\n",
              "other_payment_plans        True\n",
              "housing                    True\n",
              "existing_credits          False\n",
              "job                        True\n",
              "num_dependents            False\n",
              "own_telephone              True\n",
              "foreign_worker             True\n",
              "dtype: bool)],\n",
              "                                                       verbose=False)]}],\n",
              "             pre_dispatch='2*n_jobs', refit=True, return_train_score=False,\n",
              "             scoring=None, verbose=0)"
            ]
          },
          "metadata": {
            "tags": []
          },
          "execution_count": 41
        }
      ]
    },
    {
      "cell_type": "code",
      "metadata": {
        "id": "p18b3-PTnVV4",
        "colab_type": "code",
        "outputId": "9cd108bb-fd0d-4767-ed6c-b2afdc635ea5",
        "colab": {
          "base_uri": "https://localhost:8080/",
          "height": 34
        }
      },
      "source": [
        "grid_kfold.score(X_test, y_test_enc)"
      ],
      "execution_count": 0,
      "outputs": [
        {
          "output_type": "execute_result",
          "data": {
            "text/plain": [
              "0.728"
            ]
          },
          "metadata": {
            "tags": []
          },
          "execution_count": 42
        }
      ]
    },
    {
      "cell_type": "code",
      "metadata": {
        "id": "DJCRBnbdnZ04",
        "colab_type": "code",
        "outputId": "ccfd746a-38c3-494a-86a7-f2d09b7bb60c",
        "colab": {
          "base_uri": "https://localhost:8080/",
          "height": 85
        }
      },
      "source": [
        "grid_kfold.cv_results_['mean_test_score']"
      ],
      "execution_count": 0,
      "outputs": [
        {
          "output_type": "execute_result",
          "data": {
            "text/plain": [
              "array([0.71866667, 0.74266667, 0.77066667, 0.764     , 0.76266667,\n",
              "       0.76133333, 0.76133333, 0.73333333, 0.76933333, 0.76      ,\n",
              "       0.76533333, 0.76533333, 0.76666667, 0.76666667, 0.73733333,\n",
              "       0.71733333, 0.74666667, 0.74266667, 0.732     ])"
            ]
          },
          "metadata": {
            "tags": []
          },
          "execution_count": 43
        }
      ]
    },
    {
      "cell_type": "code",
      "metadata": {
        "id": "cCoTYy4tzzIz",
        "colab_type": "code",
        "outputId": "95f2b096-78cd-489e-8243-21a0cfa053e6",
        "colab": {
          "base_uri": "https://localhost:8080/",
          "height": 748
        }
      },
      "source": [
        "grid_kfold.best_params_"
      ],
      "execution_count": 0,
      "outputs": [
        {
          "output_type": "execute_result",
          "data": {
            "text/plain": [
              "{'regressor': LogisticRegression(C=0.1, class_weight=None, dual=False, fit_intercept=True,\n",
              "                    intercept_scaling=1, l1_ratio=None, max_iter=100,\n",
              "                    multi_class='auto', n_jobs=None, penalty='l2',\n",
              "                    random_state=None, solver='liblinear', tol=0.0001, verbose=0,\n",
              "                    warm_start=False),\n",
              " 'regressor__C': 0.1,\n",
              " 'scaler': ColumnTransformer(n_jobs=None, remainder='drop', sparse_threshold=0.3,\n",
              "                   transformer_weights=None,\n",
              "                   transformers=[('standardscaler',\n",
              "                                  StandardScaler(copy=True, with_mean=True,\n",
              "                                                 with_std=True),\n",
              "                                  checking_status           False\n",
              " duration                   True\n",
              " credit_history            False\n",
              " purpose                   False\n",
              " credit_amount              True\n",
              " savings_status            False\n",
              " employment                False\n",
              " installment_commitment     True\n",
              " personal_status           False\n",
              " other_part...\n",
              "                                  checking_status            True\n",
              " duration                  False\n",
              " credit_history             True\n",
              " purpose                    True\n",
              " credit_amount             False\n",
              " savings_status             True\n",
              " employment                 True\n",
              " installment_commitment    False\n",
              " personal_status            True\n",
              " other_parties              True\n",
              " residence_since           False\n",
              " property_magnitude         True\n",
              " age                       False\n",
              " other_payment_plans        True\n",
              " housing                    True\n",
              " existing_credits          False\n",
              " job                        True\n",
              " num_dependents            False\n",
              " own_telephone              True\n",
              " foreign_worker             True\n",
              " dtype: bool)],\n",
              "                   verbose=False)}"
            ]
          },
          "metadata": {
            "tags": []
          },
          "execution_count": 44
        }
      ]
    },
    {
      "cell_type": "markdown",
      "metadata": {
        "id": "TBmQ8rC5or1k",
        "colab_type": "text"
      },
      "source": [
        "**b. Change the random seed of the shuffling**"
      ]
    },
    {
      "cell_type": "code",
      "metadata": {
        "id": "kGD2woXBoqjD",
        "colab_type": "code",
        "colab": {}
      },
      "source": [
        "kf_random = KFold(n_splits=5, random_state=0, shuffle=True)"
      ],
      "execution_count": 0,
      "outputs": []
    },
    {
      "cell_type": "code",
      "metadata": {
        "id": "_Z6Es_WapW4P",
        "colab_type": "code",
        "outputId": "cae7f6d9-d46d-46ce-85ce-05e407a1e49f",
        "colab": {
          "base_uri": "https://localhost:8080/",
          "height": 578
        }
      },
      "source": [
        "grid_kfold2 = GridSearchCV(pipe, param_grid, cv=kf_random)\n",
        "grid_kfold2.fit(X_train, y_train_enc)"
      ],
      "execution_count": 0,
      "outputs": [
        {
          "output_type": "execute_result",
          "data": {
            "text/plain": [
              "GridSearchCV(cv=KFold(n_splits=5, random_state=0, shuffle=True),\n",
              "             error_score=nan,\n",
              "             estimator=Pipeline(memory=None,\n",
              "                                steps=[('scaler',\n",
              "                                        ColumnTransformer(n_jobs=None,\n",
              "                                                          remainder='drop',\n",
              "                                                          sparse_threshold=0.3,\n",
              "                                                          transformer_weights=None,\n",
              "                                                          transformers=[('standardscaler',\n",
              "                                                                         StandardScaler(copy=True,\n",
              "                                                                                        with_mean=True,\n",
              "                                                                                        with_std=True),\n",
              "                                                                         checking_status           False\n",
              "duration                   True\n",
              "credit_histo...\n",
              "employment                 True\n",
              "installment_commitment    False\n",
              "personal_status            True\n",
              "other_parties              True\n",
              "residence_since           False\n",
              "property_magnitude         True\n",
              "age                       False\n",
              "other_payment_plans        True\n",
              "housing                    True\n",
              "existing_credits          False\n",
              "job                        True\n",
              "num_dependents            False\n",
              "own_telephone              True\n",
              "foreign_worker             True\n",
              "dtype: bool)],\n",
              "                                                       verbose=False)]}],\n",
              "             pre_dispatch='2*n_jobs', refit=True, return_train_score=False,\n",
              "             scoring=None, verbose=0)"
            ]
          },
          "metadata": {
            "tags": []
          },
          "execution_count": 46
        }
      ]
    },
    {
      "cell_type": "code",
      "metadata": {
        "id": "NWRzb5aWpbju",
        "colab_type": "code",
        "outputId": "fdb20deb-8a4b-40b8-98ca-8d666abc8206",
        "colab": {
          "base_uri": "https://localhost:8080/",
          "height": 34
        }
      },
      "source": [
        "grid_kfold2.score(X_test, y_test_enc)"
      ],
      "execution_count": 0,
      "outputs": [
        {
          "output_type": "execute_result",
          "data": {
            "text/plain": [
              "0.748"
            ]
          },
          "metadata": {
            "tags": []
          },
          "execution_count": 47
        }
      ]
    },
    {
      "cell_type": "code",
      "metadata": {
        "id": "7OnIHn51pc9e",
        "colab_type": "code",
        "outputId": "707b99f8-9cdd-4999-8f18-358abf4ef425",
        "colab": {
          "base_uri": "https://localhost:8080/",
          "height": 85
        }
      },
      "source": [
        "grid_kfold2.cv_results_['mean_test_score']"
      ],
      "execution_count": 0,
      "outputs": [
        {
          "output_type": "execute_result",
          "data": {
            "text/plain": [
              "array([0.71866667, 0.72933333, 0.75466667, 0.76666667, 0.76533333,\n",
              "       0.764     , 0.76533333, 0.73066667, 0.756     , 0.77066667,\n",
              "       0.76533333, 0.764     , 0.76533333, 0.76533333, 0.732     ,\n",
              "       0.72533333, 0.73466667, 0.748     , 0.732     ])"
            ]
          },
          "metadata": {
            "tags": []
          },
          "execution_count": 48
        }
      ]
    },
    {
      "cell_type": "code",
      "metadata": {
        "id": "KKG8x7Kzzs2y",
        "colab_type": "code",
        "outputId": "f1e5105c-6d93-43bc-94ef-50715be2fa4e",
        "colab": {
          "base_uri": "https://localhost:8080/",
          "height": 731
        }
      },
      "source": [
        "grid_kfold2.best_params_"
      ],
      "execution_count": 0,
      "outputs": [
        {
          "output_type": "execute_result",
          "data": {
            "text/plain": [
              "{'regressor': LinearSVC(C=0.1, class_weight=None, dual=False, fit_intercept=True,\n",
              "           intercept_scaling=1, loss='squared_hinge', max_iter=1000,\n",
              "           multi_class='ovr', penalty='l2', random_state=None, tol=0.0001,\n",
              "           verbose=0),\n",
              " 'regressor__C': 0.1,\n",
              " 'scaler': ColumnTransformer(n_jobs=None, remainder='drop', sparse_threshold=0.3,\n",
              "                   transformer_weights=None,\n",
              "                   transformers=[('standardscaler',\n",
              "                                  StandardScaler(copy=True, with_mean=True,\n",
              "                                                 with_std=True),\n",
              "                                  checking_status           False\n",
              " duration                   True\n",
              " credit_history            False\n",
              " purpose                   False\n",
              " credit_amount              True\n",
              " savings_status            False\n",
              " employment                False\n",
              " installment_commitment     True\n",
              " personal_status           False\n",
              " other_part...\n",
              "                                  checking_status            True\n",
              " duration                  False\n",
              " credit_history             True\n",
              " purpose                    True\n",
              " credit_amount             False\n",
              " savings_status             True\n",
              " employment                 True\n",
              " installment_commitment    False\n",
              " personal_status            True\n",
              " other_parties              True\n",
              " residence_since           False\n",
              " property_magnitude         True\n",
              " age                       False\n",
              " other_payment_plans        True\n",
              " housing                    True\n",
              " existing_credits          False\n",
              " job                        True\n",
              " num_dependents            False\n",
              " own_telephone              True\n",
              " foreign_worker             True\n",
              " dtype: bool)],\n",
              "                   verbose=False)}"
            ]
          },
          "metadata": {
            "tags": []
          },
          "execution_count": 49
        }
      ]
    },
    {
      "cell_type": "markdown",
      "metadata": {
        "id": "NsxWXgo5y6U9",
        "colab_type": "text"
      },
      "source": [
        "**c. Change the random state of the split into training and test data**"
      ]
    },
    {
      "cell_type": "code",
      "metadata": {
        "id": "fifqlvjJy2LR",
        "colab_type": "code",
        "colab": {}
      },
      "source": [
        "X_train_new, X_test_new, y_train_new, y_test_new = train_test_split(X, y, random_state = 0)"
      ],
      "execution_count": 0,
      "outputs": []
    },
    {
      "cell_type": "code",
      "metadata": {
        "id": "nCH6ftMizI1P",
        "colab_type": "code",
        "colab": {}
      },
      "source": [
        "l_enc = LabelEncoder()\n",
        "y_test_enc_new = l_enc.fit_transform(y_test_new)\n",
        "y_train_enc_new = l_enc.fit_transform(y_train_new)"
      ],
      "execution_count": 0,
      "outputs": []
    },
    {
      "cell_type": "code",
      "metadata": {
        "id": "HK-02PxZzStX",
        "colab_type": "code",
        "outputId": "24cf6358-dfe0-485b-cecd-7e5550f2c9b4",
        "colab": {
          "base_uri": "https://localhost:8080/",
          "height": 578
        }
      },
      "source": [
        "grid_kfold3 = GridSearchCV(pipe, param_grid, cv=kf_non_random)\n",
        "grid_kfold3.fit(X_train_new, y_train_enc_new)"
      ],
      "execution_count": 0,
      "outputs": [
        {
          "output_type": "execute_result",
          "data": {
            "text/plain": [
              "GridSearchCV(cv=KFold(n_splits=5, random_state=None, shuffle=True),\n",
              "             error_score=nan,\n",
              "             estimator=Pipeline(memory=None,\n",
              "                                steps=[('scaler',\n",
              "                                        ColumnTransformer(n_jobs=None,\n",
              "                                                          remainder='drop',\n",
              "                                                          sparse_threshold=0.3,\n",
              "                                                          transformer_weights=None,\n",
              "                                                          transformers=[('standardscaler',\n",
              "                                                                         StandardScaler(copy=True,\n",
              "                                                                                        with_mean=True,\n",
              "                                                                                        with_std=True),\n",
              "                                                                         checking_status           False\n",
              "duration                   True\n",
              "credit_hi...\n",
              "employment                 True\n",
              "installment_commitment    False\n",
              "personal_status            True\n",
              "other_parties              True\n",
              "residence_since           False\n",
              "property_magnitude         True\n",
              "age                       False\n",
              "other_payment_plans        True\n",
              "housing                    True\n",
              "existing_credits          False\n",
              "job                        True\n",
              "num_dependents            False\n",
              "own_telephone              True\n",
              "foreign_worker             True\n",
              "dtype: bool)],\n",
              "                                                       verbose=False)]}],\n",
              "             pre_dispatch='2*n_jobs', refit=True, return_train_score=False,\n",
              "             scoring=None, verbose=0)"
            ]
          },
          "metadata": {
            "tags": []
          },
          "execution_count": 52
        }
      ]
    },
    {
      "cell_type": "code",
      "metadata": {
        "id": "FbUziPEUzZU6",
        "colab_type": "code",
        "outputId": "27c55137-54c8-4312-d5c6-194dc2877223",
        "colab": {
          "base_uri": "https://localhost:8080/",
          "height": 34
        }
      },
      "source": [
        "grid_kfold3.score(X_test_new, y_test_enc_new)"
      ],
      "execution_count": 0,
      "outputs": [
        {
          "output_type": "execute_result",
          "data": {
            "text/plain": [
              "0.736"
            ]
          },
          "metadata": {
            "tags": []
          },
          "execution_count": 53
        }
      ]
    },
    {
      "cell_type": "code",
      "metadata": {
        "id": "ZrMien0wze2c",
        "colab_type": "code",
        "outputId": "75cbf23f-2477-4906-d6ca-d2e6c0ab819f",
        "colab": {
          "base_uri": "https://localhost:8080/",
          "height": 85
        }
      },
      "source": [
        "grid_kfold3.cv_results_['mean_test_score']"
      ],
      "execution_count": 0,
      "outputs": [
        {
          "output_type": "execute_result",
          "data": {
            "text/plain": [
              "array([0.69866667, 0.712     , 0.75333333, 0.76133333, 0.752     ,\n",
              "       0.74933333, 0.74933333, 0.71333333, 0.756     , 0.77066667,\n",
              "       0.756     , 0.75466667, 0.75466667, 0.75466667, 0.71466667,\n",
              "       0.69733333, 0.73733333, 0.72266667, 0.72933333])"
            ]
          },
          "metadata": {
            "tags": []
          },
          "execution_count": 54
        }
      ]
    },
    {
      "cell_type": "code",
      "metadata": {
        "id": "lBshY56Czh5N",
        "colab_type": "code",
        "outputId": "4651fe25-fb50-464d-f0ea-a1f1325dded0",
        "colab": {
          "base_uri": "https://localhost:8080/",
          "height": 731
        }
      },
      "source": [
        "grid_kfold3.best_params_"
      ],
      "execution_count": 0,
      "outputs": [
        {
          "output_type": "execute_result",
          "data": {
            "text/plain": [
              "{'regressor': LinearSVC(C=0.1, class_weight=None, dual=False, fit_intercept=True,\n",
              "           intercept_scaling=1, loss='squared_hinge', max_iter=1000,\n",
              "           multi_class='ovr', penalty='l2', random_state=None, tol=0.0001,\n",
              "           verbose=0),\n",
              " 'regressor__C': 0.1,\n",
              " 'scaler': ColumnTransformer(n_jobs=None, remainder='drop', sparse_threshold=0.3,\n",
              "                   transformer_weights=None,\n",
              "                   transformers=[('standardscaler',\n",
              "                                  StandardScaler(copy=True, with_mean=True,\n",
              "                                                 with_std=True),\n",
              "                                  checking_status           False\n",
              " duration                   True\n",
              " credit_history            False\n",
              " purpose                   False\n",
              " credit_amount              True\n",
              " savings_status            False\n",
              " employment                False\n",
              " installment_commitment     True\n",
              " personal_status           False\n",
              " other_part...\n",
              "                                  checking_status            True\n",
              " duration                  False\n",
              " credit_history             True\n",
              " purpose                    True\n",
              " credit_amount             False\n",
              " savings_status             True\n",
              " employment                 True\n",
              " installment_commitment    False\n",
              " personal_status            True\n",
              " other_parties              True\n",
              " residence_since           False\n",
              " property_magnitude         True\n",
              " age                       False\n",
              " other_payment_plans        True\n",
              " housing                    True\n",
              " existing_credits          False\n",
              " job                        True\n",
              " num_dependents            False\n",
              " own_telephone              True\n",
              " foreign_worker             True\n",
              " dtype: bool)],\n",
              "                   verbose=False)}"
            ]
          },
          "metadata": {
            "tags": []
          },
          "execution_count": 55
        }
      ]
    },
    {
      "cell_type": "markdown",
      "metadata": {
        "id": "iJccMeh2z4PK",
        "colab_type": "text"
      },
      "source": [
        "After several rounds of testing, I find the best parameters sometimes change. The original grid search shows linear SVM with parameter C = 0.1 is the best model. \n",
        "\n",
        "When I change the cross-validation strategy, the best model becomes the logistic regression model with parameter C = 0.1. \n",
        "\n",
        "When I change the random seed of the shuffling, the best parameters and the final score don't change. \n",
        "\n",
        "When I change or the random state of the split into training and test data, the final score of the model is different but the best parameters are the same."
      ]
    },
    {
      "cell_type": "markdown",
      "metadata": {
        "id": "mni_FXIa0LJa",
        "colab_type": "text"
      },
      "source": [
        "## 1.7 Visualize the 20 most important coefficients for LogisticRegression and Linear Support Vector Machines using hyper-parameters that performed well in the grid-search."
      ]
    },
    {
      "cell_type": "markdown",
      "metadata": {
        "id": "jQ_hgGXWHsvB",
        "colab_type": "text"
      },
      "source": [
        "The first model in Q1.5 has the highest test score, so I am going visualize that model to visualize important coefficients. By printing out the cross validation results for the model, I set the parameter C equal to 1 for the logistic regression model, and C equal to 0.1 for the linear SVM model."
      ]
    },
    {
      "cell_type": "code",
      "metadata": {
        "id": "wc_ZzvzcIl4C",
        "colab_type": "code",
        "outputId": "e1cf4a2a-6945-4515-d9c1-b3fcb7652b77",
        "colab": {
          "base_uri": "https://localhost:8080/",
          "height": 51
        }
      },
      "source": [
        "grid.cv_results_['mean_test_score'][:7]"
      ],
      "execution_count": 0,
      "outputs": [
        {
          "output_type": "execute_result",
          "data": {
            "text/plain": [
              "array([0.71866667, 0.736     , 0.76266667, 0.76933333, 0.76533333,\n",
              "       0.764     , 0.764     ])"
            ]
          },
          "metadata": {
            "tags": []
          },
          "execution_count": 56
        }
      ]
    },
    {
      "cell_type": "code",
      "metadata": {
        "id": "ZVd-_ucPO64J",
        "colab_type": "code",
        "outputId": "8548f131-a177-46a4-a635-4b85ea4ec04a",
        "colab": {
          "base_uri": "https://localhost:8080/",
          "height": 51
        }
      },
      "source": [
        "grid.cv_results_['mean_test_score'][7:14]"
      ],
      "execution_count": 0,
      "outputs": [
        {
          "output_type": "execute_result",
          "data": {
            "text/plain": [
              "array([0.732     , 0.76666667, 0.77333333, 0.772     , 0.772     ,\n",
              "       0.772     , 0.772     ])"
            ]
          },
          "metadata": {
            "tags": []
          },
          "execution_count": 57
        }
      ]
    },
    {
      "cell_type": "code",
      "metadata": {
        "id": "jmutqUAaORP5",
        "colab_type": "code",
        "colab": {}
      },
      "source": [
        "categorical = X_train.dtypes == 'category'\n",
        "\n",
        "preprocess_scale = make_column_transformer(\n",
        "    (StandardScaler(), ~categorical),\n",
        "    (OneHotEncoder(), categorical))"
      ],
      "execution_count": 0,
      "outputs": []
    },
    {
      "cell_type": "code",
      "metadata": {
        "id": "hRJhkYKzKLvj",
        "colab_type": "code",
        "colab": {}
      },
      "source": [
        "optimal_model_lr = make_pipeline(preprocess_scale, LogisticRegression(C=1, solver='liblinear'))"
      ],
      "execution_count": 0,
      "outputs": []
    },
    {
      "cell_type": "code",
      "metadata": {
        "id": "XdFAYu1tLvIM",
        "colab_type": "code",
        "outputId": "b4d4b15d-0354-493e-97db-bc43999a4387",
        "colab": {
          "base_uri": "https://localhost:8080/",
          "height": 34
        }
      },
      "source": [
        "optimal_model_lr.fit(X_train, y_train_enc)\n",
        "scores = cross_val_score(optimal_model_lr, X_train, y_train_enc)\n",
        "np.mean(scores)"
      ],
      "execution_count": 0,
      "outputs": [
        {
          "output_type": "execute_result",
          "data": {
            "text/plain": [
              "0.7693333333333333"
            ]
          },
          "metadata": {
            "tags": []
          },
          "execution_count": 61
        }
      ]
    },
    {
      "cell_type": "code",
      "metadata": {
        "id": "wuhHfFMs4-Pv",
        "colab_type": "code",
        "colab": {}
      },
      "source": [
        "non_continuous_feature_name = optimal_model_lr.steps[0][1].transformers_[1][1].get_feature_names().tolist()"
      ],
      "execution_count": 0,
      "outputs": []
    },
    {
      "cell_type": "code",
      "metadata": {
        "id": "7_ez6qim6Et7",
        "colab_type": "code",
        "colab": {}
      },
      "source": [
        "continuous_feature_name = X_train.columns[~categorical].to_list()"
      ],
      "execution_count": 0,
      "outputs": []
    },
    {
      "cell_type": "code",
      "metadata": {
        "id": "Ck_m3g-R7yQh",
        "colab_type": "code",
        "colab": {}
      },
      "source": [
        "feature_name = continuous_feature_name + non_continuous_feature_name"
      ],
      "execution_count": 0,
      "outputs": []
    },
    {
      "cell_type": "code",
      "metadata": {
        "id": "zizWzuymPCw0",
        "colab_type": "code",
        "colab": {}
      },
      "source": [
        "lr_coef = optimal_model_lr.steps[1][1].coef_[0]"
      ],
      "execution_count": 0,
      "outputs": []
    },
    {
      "cell_type": "code",
      "metadata": {
        "id": "Awmc5IQ7SYwg",
        "colab_type": "code",
        "colab": {}
      },
      "source": [
        "lr_top20_index = sorted(range(len(lr_coef)), key=lambda i: abs(lr_coef[i]), reverse=True)[:20]"
      ],
      "execution_count": 0,
      "outputs": []
    },
    {
      "cell_type": "code",
      "metadata": {
        "id": "PVolzFCOStWj",
        "colab_type": "code",
        "outputId": "3c0c7dfd-9152-40ea-a829-d3254e0093f0",
        "colab": {
          "base_uri": "https://localhost:8080/",
          "height": 34
        }
      },
      "source": [
        "lr_top20_index"
      ],
      "execution_count": 0,
      "outputs": [
        {
          "output_type": "execute_result",
          "data": {
            "text/plain": [
              "[12, 10, 25, 20, 41, 21, 59, 29, 18, 11, 8, 28, 32, 39, 50, 45, 24, 13, 46, 15]"
            ]
          },
          "metadata": {
            "tags": []
          },
          "execution_count": 64
        }
      ]
    },
    {
      "cell_type": "code",
      "metadata": {
        "id": "T7Nm2OCv8MGO",
        "colab_type": "code",
        "colab": {}
      },
      "source": [
        "lr_top20_feature = [feature_name[i] for i in lr_top20_index]"
      ],
      "execution_count": 0,
      "outputs": []
    },
    {
      "cell_type": "code",
      "metadata": {
        "id": "ic6LhUf4Pnqc",
        "colab_type": "code",
        "colab": {}
      },
      "source": [
        "lr_coef_20 = [lr_coef[i] for i in lr_top20_index]"
      ],
      "execution_count": 0,
      "outputs": []
    },
    {
      "cell_type": "code",
      "metadata": {
        "id": "cAYHySeK0Kn3",
        "colab_type": "code",
        "outputId": "3ecdd5c7-347f-40f5-846d-ffa095845f75",
        "colab": {
          "base_uri": "https://localhost:8080/",
          "height": 441
        }
      },
      "source": [
        "plt.scatter(lr_top20_feature, lr_coef_20, c=np.sign(lr_coef_20), cmap='bwr_r')\n",
        "plt.xticks(rotation='vertical')\n",
        "plt.xlabel(\"feature name\")\n",
        "plt.ylabel(\"regression coefficient\")\n",
        "plt.title(\"Best model for Logistic Regression\")\n",
        "plt.show()"
      ],
      "execution_count": 0,
      "outputs": [
        {
          "output_type": "display_data",
          "data": {
            "image/png": "[encoded data removed]",
            "text/plain": [
              "<Figure size 432x288 with 1 Axes>"
            ]
          },
          "metadata": {
            "tags": []
          }
        }
      ]
    },
    {
      "cell_type": "code",
      "metadata": {
        "colab_type": "code",
        "id": "FHUhGSDMWwbi",
        "colab": {}
      },
      "source": [
        "optimal_model_SVM = make_pipeline(preprocess_scale, LinearSVC(C=0.1, dual=False))"
      ],
      "execution_count": 0,
      "outputs": []
    },
    {
      "cell_type": "code",
      "metadata": {
        "colab_type": "code",
        "outputId": "58125364-2b38-43a7-ad16-42e870960c77",
        "id": "okybgIl5Wwbp",
        "colab": {
          "base_uri": "https://localhost:8080/",
          "height": 34
        }
      },
      "source": [
        "optimal_model_SVM.fit(X_train, y_train_enc)\n",
        "scores = cross_val_score(optimal_model_SVM, X_train, y_train_enc)\n",
        "np.mean(scores)"
      ],
      "execution_count": 0,
      "outputs": [
        {
          "output_type": "execute_result",
          "data": {
            "text/plain": [
              "0.7733333333333333"
            ]
          },
          "metadata": {
            "tags": []
          },
          "execution_count": 100
        }
      ]
    },
    {
      "cell_type": "code",
      "metadata": {
        "colab_type": "code",
        "id": "R5E4S2D6Wwbu",
        "colab": {}
      },
      "source": [
        "SVM_coef = optimal_model_SVM.steps[1][1].coef_[0]"
      ],
      "execution_count": 0,
      "outputs": []
    },
    {
      "cell_type": "code",
      "metadata": {
        "colab_type": "code",
        "id": "VT6IEoIfWwbw",
        "colab": {}
      },
      "source": [
        "SVM_top20_index = sorted(range(len(SVM_coef)), key=lambda i: abs(SVM_coef[i]), reverse=True)[:20]"
      ],
      "execution_count": 0,
      "outputs": []
    },
    {
      "cell_type": "code",
      "metadata": {
        "colab_type": "code",
        "outputId": "126da7f7-3c07-4999-812f-9b1aef6ba1ac",
        "id": "XJ49kFtXWwb0",
        "colab": {
          "base_uri": "https://localhost:8080/",
          "height": 34
        }
      },
      "source": [
        "SVM_top20_index"
      ],
      "execution_count": 0,
      "outputs": [
        {
          "output_type": "execute_result",
          "data": {
            "text/plain": [
              "[12, 10, 25, 20, 41, 21, 18, 59, 11, 29, 8, 24, 45, 13, 39, 28, 32, 50, 15, 46]"
            ]
          },
          "metadata": {
            "tags": []
          },
          "execution_count": 106
        }
      ]
    },
    {
      "cell_type": "code",
      "metadata": {
        "id": "GTtK3eop_o-P",
        "colab_type": "code",
        "colab": {}
      },
      "source": [
        "SVM_top20_feature = [feature_name[i] for i in SVM_top20_index]"
      ],
      "execution_count": 0,
      "outputs": []
    },
    {
      "cell_type": "code",
      "metadata": {
        "colab_type": "code",
        "id": "7fkjRem-Wwb2",
        "colab": {}
      },
      "source": [
        "SVM_coef_20 = [SVM_coef[i] for i in SVM_top20_index]"
      ],
      "execution_count": 0,
      "outputs": []
    },
    {
      "cell_type": "code",
      "metadata": {
        "colab_type": "code",
        "outputId": "a0adbbf6-2233-4144-a466-cb444fdfbce4",
        "id": "j-GrjTZnWwb7",
        "colab": {
          "base_uri": "https://localhost:8080/",
          "height": 441
        }
      },
      "source": [
        "plt.scatter(SVM_top20_feature, SVM_coef_20, c=np.sign(SVM_coef_20), cmap='bwr_r')\n",
        "plt.xticks(rotation='vertical')\n",
        "plt.xlabel(\"feature name\")\n",
        "plt.ylabel(\"regression coefficient\")\n",
        "plt.title(\"Best model for Linear SVM\")\n",
        "plt.show()"
      ],
      "execution_count": 0,
      "outputs": [
        {
          "output_type": "display_data",
          "data": {
            "image/png": "[encoded data removed]",
            "text/plain": [
              "<Figure size 432x288 with 1 Axes>"
            ]
          },
          "metadata": {
            "tags": []
          }
        }
      ]
    },
    {
      "cell_type": "markdown",
      "metadata": {
        "id": "G_-QBsHLBVsD",
        "colab_type": "text"
      },
      "source": [
        "From the previous two visualizations, we can tell that the existing credit history, whether the customer has checking accounts or cars is important in the decision about credit risks."
      ]
    }
  ]
}